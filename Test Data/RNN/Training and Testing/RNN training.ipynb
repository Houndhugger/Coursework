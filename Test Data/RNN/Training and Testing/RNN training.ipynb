{
 "cells": [
  {
   "cell_type": "code",
   "execution_count": null,
   "metadata": {},
   "outputs": [],
   "source": [
    "import torch\n",
    "import numpy as np\n",
    "from sklearn.preprocessing import StandardScaler\n",
    "import xlrd\n",
    "import pandas as pd\n",
    "\n",
    "#original data used to stadarise replicated data\n",
    "book = xlrd.open_workbook('dataset for standardisation.xlsx')\n",
    "sheet = book.sheet_by_name('Sheet1')\n",
    "data_unreplicated = [[sheet.cell_value(r, c)\n",
    "         for c in range(1,9)] for r in range(2,74)]\n",
    "scaler = StandardScaler()\n",
    "scaler.fit(data_unreplicated)\n",
    "\n",
    "#replicated data\n",
    "book = xlrd.open_workbook('prepareddatakfold.xlsx')\n",
    "sheet = book.sheet_by_name('Sheet1')\n",
    "replicated_data = [[sheet.cell_value(r, c)\n",
    "         for c in range(0,8)] for r in range(0,7200)]\n",
    "\n",
    "#create function for creating sequences\n",
    "def create_inout_sequences(input_data, tw):\n",
    "    training_seq = []\n",
    "    label_seq = []\n",
    "    L = len(input_data)\n",
    "    for i in range(0,L,tw):\n",
    "        train_seq = input_data[i:i+tw,0:5]\n",
    "        train_label = input_data[i:i+tw,5:8]\n",
    "        training_seq.append(train_seq)\n",
    "        label_seq.append(train_label)\n",
    "    return training_seq,label_seq\n",
    "\n",
    "#standardise data\n",
    "standardised_data = scaler.transform(replicated_data)\n",
    "x = torch.tensor(standardised_data)\n",
    "#make sequences\n",
    "z, t = create_inout_sequences(x, 12)\n",
    "training_seq = torch.stack(z)\n",
    "label_seq = torch.stack(t)\n",
    "#put into batches\n",
    "batch_size = 8\n",
    "train = torch.utils.data.TensorDataset(training_seq,label_seq)\n",
    "train_loader = torch.utils.data.DataLoader(dataset=train,\n",
    "                                           batch_size=batch_size, \n",
    "                                           shuffle=False)\n"
   ]
  },
  {
   "cell_type": "code",
   "execution_count": null,
   "metadata": {},
   "outputs": [],
   "source": [
    "#define model\n",
    "import torch.nn as nn\n",
    "import torch\n",
    "class RNNModel(nn.Module):\n",
    "    def __init__(self, input_dim, hidden_dim, layer_dim, output_dim):\n",
    "        super(RNNModel, self).__init__()\n",
    "        self.hidden_dim = hidden_dim\n",
    "        self.layer_dim = layer_dim\n",
    "        self.rnn = nn.RNN(input_dim, hidden_dim, layer_dim, batch_first=True, nonlinearity='tanh')\n",
    "        self.fc = nn.Linear(hidden_dim, output_dim)\n",
    "\n",
    "    def forward(self, x):\n",
    "        h0 = torch.zeros(self.layer_dim, x.size(0), self.hidden_dim).requires_grad_()\n",
    "        out, hn = self.rnn(x, h0.detach())\n",
    "        out = self.fc(out) \n",
    "        return out"
   ]
  },
  {
   "cell_type": "code",
   "execution_count": null,
   "metadata": {},
   "outputs": [],
   "source": [
    "#define architecture\n",
    "input_dim = 5\n",
    "hidden_dim = 15\n",
    "layer_dim = 1\n",
    "output_dim = 3\n",
    "\n",
    "model = RNNModel(input_dim, hidden_dim, layer_dim, output_dim)\n",
    "loss_fn = torch.nn.MSELoss(reduction='mean')"
   ]
  },
  {
   "cell_type": "code",
   "execution_count": null,
   "metadata": {},
   "outputs": [],
   "source": [
    "from tqdm import tqdm\n",
    "from torch.autograd import Variable\n",
    "model.train()\n",
    "learning_rate = 0.002\n",
    "optimizer = torch.optim.Adam(model.parameters(), lr=learning_rate)\n",
    "\n",
    "epochs = 50\n",
    "\n",
    "#train model \n",
    "for epoch in range (epochs+1):\n",
    "    for step, (x, y) in enumerate(train_loader):        # gives batch data\n",
    "        b_x = Variable(x.view(-1, 12, 5))  \n",
    "        b_y = Variable(y.view(-1, 12, 3))\n",
    "    # Forward pass\n",
    "        optimizer.zero_grad()\n",
    "        y_pred = model(b_x.float())\n",
    "    # Compute and print loss.\n",
    "        loss = loss_fn(y_pred, b_y.float())\n",
    "        loss.backward()\n",
    "        optimizer.step()\n",
    "    print(epoch, loss.item())\n",
    "\n",
    "\n",
    "#compare predictions with targets\n",
    "print(b_y)    \n",
    "print(y_pred)"
   ]
  },
  {
   "cell_type": "code",
   "execution_count": null,
   "metadata": {},
   "outputs": [],
   "source": [
    "#save model\n",
    "torch.save(model.state_dict(), (\"C:/Users/Gabriel/Documents/Python/RNN1.pt\"))                                           "
   ]
  }
 ],
 "metadata": {
  "kernelspec": {
   "display_name": "Python 3",
   "language": "python",
   "name": "python3"
  },
  "language_info": {
   "codemirror_mode": {
    "name": "ipython",
    "version": 3
   },
   "file_extension": ".py",
   "mimetype": "text/x-python",
   "name": "python",
   "nbconvert_exporter": "python",
   "pygments_lexer": "ipython3",
   "version": "3.7.3"
  }
 },
 "nbformat": 4,
 "nbformat_minor": 2
}
