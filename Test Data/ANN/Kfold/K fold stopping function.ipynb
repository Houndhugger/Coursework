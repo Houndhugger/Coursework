{
 "cells": [
  {
   "cell_type": "code",
   "execution_count": 2,
   "metadata": {},
   "outputs": [],
   "source": [
    "seed = 1\n",
    "import numpy as np\n",
    "\n",
    "def seed_torch(seed=1029):\n",
    "    np.random.seed(seed)\n",
    "    torch.manual_seed(seed)\n",
    "\n"
   ]
  },
  {
   "cell_type": "code",
   "execution_count": 3,
   "metadata": {},
   "outputs": [],
   "source": [
    "import torch\n",
    "from sklearn.preprocessing import StandardScaler\n",
    "from sklearn.model_selection import KFold\n",
    "import torch.nn as nn\n",
    "class Net(nn.Module):\n",
    "    def __init__(self, D_in, H1, H2, D_out):\n",
    " \n",
    "        super(Net, self).__init__()\n",
    "        self.linear1 = nn.Linear(D_in, H1) \n",
    "        self.linear2 = nn.Linear(H1, H2)\n",
    "        self.linear3 = nn.Linear(H2, D_out)\n",
    "  \n",
    "    def forward(self, x):\n",
    "    \n",
    "        x = torch.sigmoid(self.linear1(x))\n",
    "        x = torch.sigmoid(self.linear2(x))\n",
    "        x = self.linear3(x)\n",
    "        return x\n",
    "\n"
   ]
  },
  {
   "cell_type": "code",
   "execution_count": 4,
   "metadata": {},
   "outputs": [],
   "source": [
    "import copy\n",
    "import numpy as np\n",
    "seed_torch(seed)\n",
    "# N is batch size; D_in is input dimension;\n",
    "# H is hidden dimension; D_out is output dimension.\n",
    "N, D_in, H1, H2, D_out = 50, 5, 10, 3, 3\n",
    "model = Net(D_in, H1, H2, D_out)\n",
    "loss_fn = torch.nn.MSELoss()\n",
    "learning_rate = 1e-3\n",
    "optimizer = torch.optim.Adam(model.parameters(), lr=learning_rate)\n",
    "init_state = copy.deepcopy(model.state_dict())\n",
    "init_state_opt = copy.deepcopy(optimizer.state_dict())\n"
   ]
  },
  {
   "cell_type": "code",
   "execution_count": 13,
   "metadata": {},
   "outputs": [],
   "source": [
    "\n",
    "from sklearn.preprocessing import StandardScaler\n",
    "from sklearn.model_selection import KFold\n",
    "from tqdm import tqdm\n",
    "\n",
    "import xlrd\n",
    "import pandas as pd\n",
    "book = xlrd.open_workbook('dataset for standardisation.xlsx')\n",
    "sheet = book.sheet_by_name('Sheet1')\n",
    "data_unreplicated = [[sheet.cell_value(r, c)\n",
    "         for c in range(1,9)] for r in range(2,74)]\n",
    "scaler = StandardScaler()\n",
    "scaler.fit(data_unreplicated)\n",
    "book = xlrd.open_workbook('prepareddatakfold.xlsx')\n",
    "sheet = book.sheet_by_name('Sheet1')\n",
    "data_replicated = [[sheet.cell_value(r, c)\n",
    "         for c in range(0,8)] for r in range(0,7200)]\n",
    "\n",
    "scaler = StandardScaler()\n",
    "scaler.fit(data_unreplicated)\n",
    "standardised_data = scaler.transform(data_replicated)\n",
    "\n",
    "x_train = standardised_data[:, 0:5]\n",
    "y_train = standardised_data[:, 5:8]\n",
    "\n",
    "n_splits = 3\n",
    "splits = list(KFold(n_splits=n_splits, shuffle=False, random_state=seed)\n",
    "              .split(x_train, y_train))\n",
    "\n"
   ]
  },
  {
   "cell_type": "code",
   "execution_count": 18,
   "metadata": {
    "scrolled": true
   },
   "outputs": [
    {
     "name": "stdout",
     "output_type": "stream",
     "text": [
      "5 3 95.33333333333333 0.6650887845704951\n",
      "10 3 44.66666666666667 0.7058578373657332\n",
      "15 3 98.0 0.6984000955190923\n",
      "20 3 66.33333333333333 0.6797964488052659\n",
      "5 6 52.66666666666667 0.6033962967081203\n",
      "10 6 43.0 0.6553343290256131\n",
      "15 6 41.0 0.6515493819283114\n",
      "20 6 47.333333333333336 0.6203191373497249\n",
      "5 9 60.333333333333336 0.6731260391987032\n",
      "10 9 30.333333333333336 0.6189615372568369\n",
      "15 9 37.666666666666664 0.6297398509664668\n",
      "20 9 77.66666666666667 0.6258628155208298\n",
      "5 12 57.66666666666667 0.6101373361630572\n",
      "10 12 28.333333333333336 0.624052457511425\n",
      "15 12 78.0 0.5849493671622541\n",
      "20 12 25.333333333333336 0.6664278575529655\n"
     ]
    }
   ],
   "source": [
    "i = 2\n",
    "batches = 50\n",
    "epoch_range = [2000]\n",
    "for q in range (3,15,3):\n",
    "    for l in range (5,25,5):\n",
    "            N, D_in, H1, H2, D_out = batches, 5, l, q, 3\n",
    "            model = Net(D_in, H1, H2, D_out)\n",
    "            model.train()\n",
    "            optimizer = torch.optim.Adam(model.parameters(), lr=learning_rate)\n",
    "            init_state = copy.deepcopy(model.state_dict())\n",
    "            init_state_opt = copy.deepcopy(optimizer.state_dict())\n",
    "            av_opt_epoch=0\n",
    "            av_opt_loss=0\n",
    "            for i, (train_idx, valid_idx) in enumerate(splits):\n",
    "                model.load_state_dict(init_state)\n",
    "                optimizer.load_state_dict(init_state_opt)\n",
    "                x_train_fold = torch.tensor(x_train[train_idx], dtype=torch.float32)\n",
    "                y_train_fold = torch.tensor(y_train[train_idx], dtype=torch.float32)\n",
    "                x_val_fold = torch.tensor(x_train[valid_idx], dtype=torch.float32)\n",
    "                y_val_fold = torch.tensor(y_train[valid_idx], dtype=torch.float32)\n",
    "                train = torch.utils.data.TensorDataset(x_train_fold, y_train_fold)\n",
    "                valid = torch.utils.data.TensorDataset(x_val_fold, y_val_fold)\n",
    "                train_loader = torch.utils.data.DataLoader(train, batch_size=batches,\n",
    "                                                           shuffle=True)\n",
    "                valid_loader = torch.utils.data.DataLoader(valid, batch_size=batches,\n",
    "                                                           shuffle=False)\n",
    "                Gp=0\n",
    "                epoch=0\n",
    "                opt_loss=1\n",
    "                while Gp<1 and epoch<200:\n",
    "                    epoch+=1\n",
    "                    model.train()\n",
    "                    for x_batch, y_batch in train_loader:\n",
    "                        y_pred = model(x_batch)\n",
    "                        loss = loss_fn(y_pred, y_batch)\n",
    "                        optimizer.zero_grad()\n",
    "                        loss.backward()\n",
    "                        optimizer.step()\n",
    "                    model.eval()\n",
    "                    avg_val_loss = 0.\n",
    "                    for x_batch, y_batch in valid_loader:\n",
    "                        y_pred = model(x_batch).detach()\n",
    "                        avg_val_loss += loss_fn(y_pred, y_batch).item() / len(valid_loader.dataset)\n",
    "                    if avg_val_loss<opt_loss:\n",
    "                        opt_loss = avg_val_loss  \n",
    "                        opt_epoch=epoch\n",
    "                    Gp=(avg_val_loss/opt_loss)-1\n",
    "                av_opt_epoch+=opt_epoch/3\n",
    "                av_opt_loss+=opt_loss/3\n",
    "            print(H1,H2,av_opt_epoch,av_opt_loss)\n",
    "         \n"
   ]
  },
  {
   "cell_type": "code",
   "execution_count": 7,
   "metadata": {},
   "outputs": [],
   "source": [
    "torch.save(model.state_dict(), (\"C:/Users/Gabriel/Documents/Python/ANN3.pt\"))                \n",
    "                                "
   ]
  }
 ],
 "metadata": {
  "kernelspec": {
   "display_name": "Python 3",
   "language": "python",
   "name": "python3"
  },
  "language_info": {
   "codemirror_mode": {
    "name": "ipython",
    "version": 3
   },
   "file_extension": ".py",
   "mimetype": "text/x-python",
   "name": "python",
   "nbconvert_exporter": "python",
   "pygments_lexer": "ipython3",
   "version": "3.7.3"
  }
 },
 "nbformat": 4,
 "nbformat_minor": 2
}
