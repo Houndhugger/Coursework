{
 "cells": [
  {
   "cell_type": "code",
   "execution_count": 14,
   "metadata": {},
   "outputs": [],
   "source": [
    "import torch.nn as nn\n",
    "class Net(nn.Module):\n",
    "    def __init__(self, D_in, H1, H2, D_out):\n",
    " \n",
    "        super(Net, self).__init__()\n",
    "        self.linear1 = nn.Linear(D_in, H1) \n",
    "        self.linear2 = nn.Linear(H1, H2)\n",
    "        self.linear3 = nn.Linear(H2, D_out)\n",
    "  \n",
    "    def forward(self, x):\n",
    "    \n",
    "        x = torch.sigmoid(self.linear1(x))\n",
    "        x = torch.sigmoid(self.linear2(x))\n",
    "        x = self.linear3(x)\n",
    "        return x\n"
   ]
  },
  {
   "cell_type": "code",
   "execution_count": 15,
   "metadata": {},
   "outputs": [],
   "source": [
    "import torch \n",
    "import xlrd\n",
    "from sklearn.preprocessing import StandardScaler\n",
    "import numpy as np\n",
    "\n",
    "N, D_in, H1, H2, D_out = 100, 5, 15, 9, 3\n",
    "model = Net(D_in, H1, H2, D_out)\n",
    "\n",
    "model.load_state_dict(torch.load(\"C:/Users/Gabriel/Documents/Python/ANN2.pt\"))\n",
    "model.eval()\n",
    "book = xlrd.open_workbook('dataset for standardisation.xlsx')\n",
    "sheet = book.sheet_by_name('Sheet1')\n",
    "data4 = [[sheet.cell_value(r, c)\n",
    "         for c in range(1,6)] for r in range(2,74)]\n",
    "data5 = [[sheet.cell_value(r, c)\n",
    "         for c in range(6,9)] for r in range(2,74)]\n",
    "scaler = StandardScaler()\n",
    "scaler2 = StandardScaler()\n"
   ]
  },
  {
   "cell_type": "code",
   "execution_count": 16,
   "metadata": {},
   "outputs": [
    {
     "name": "stdout",
     "output_type": "stream",
     "text": [
      "tensor([[3.0500e-01, 7.7532e+02, 5.8728e-01],\n",
      "        [5.1107e-01, 6.9418e+02, 1.0462e+00],\n",
      "        [7.0308e-01, 5.5789e+02, 1.3487e+00],\n",
      "        [8.9560e-01, 5.3951e+02, 1.7688e+00],\n",
      "        [1.1444e+00, 4.9358e+02, 2.3229e+00],\n",
      "        [1.4059e+00, 4.7312e+02, 2.8433e+00],\n",
      "        [1.6189e+00, 6.9757e+02, 3.2463e+00],\n",
      "        [1.8247e+00, 9.8951e+02, 3.7451e+00],\n",
      "        [2.0363e+00, 1.2479e+03, 4.2663e+00],\n",
      "        [2.2023e+00, 1.4709e+03, 4.5310e+00],\n",
      "        [2.3710e+00, 1.7063e+03, 4.5893e+00],\n",
      "        [2.4474e+00, 1.8711e+03, 4.6029e+00]], dtype=torch.float64)\n"
     ]
    },
    {
     "name": "stderr",
     "output_type": "stream",
     "text": [
      "C:\\Users\\Gabriel\\Anaconda3\\lib\\site-packages\\ipykernel_launcher.py:38: UserWarning: To copy construct from a tensor, it is recommended to use sourceTensor.clone().detach() or sourceTensor.clone().detach().requires_grad_(True), rather than torch.tensor(sourceTensor).\n"
     ]
    },
    {
     "name": "stdout",
     "output_type": "stream",
     "text": [
      "tensor([[3.0500e-01, 7.7532e+02, 5.8728e-01],\n",
      "        [5.1107e-01, 6.9418e+02, 1.0462e+00],\n",
      "        [7.0308e-01, 5.5789e+02, 1.3487e+00],\n",
      "        [8.9560e-01, 5.3951e+02, 1.7688e+00],\n",
      "        [1.1444e+00, 4.9358e+02, 2.3229e+00],\n",
      "        [1.4059e+00, 4.7312e+02, 2.8433e+00],\n",
      "        [1.6189e+00, 6.9757e+02, 3.2463e+00],\n",
      "        [1.8247e+00, 9.8951e+02, 3.7451e+00],\n",
      "        [2.0363e+00, 1.2479e+03, 4.2663e+00],\n",
      "        [2.2023e+00, 1.4709e+03, 4.5310e+00],\n",
      "        [2.3710e+00, 1.7063e+03, 4.5893e+00],\n",
      "        [2.4474e+00, 1.8711e+03, 4.6029e+00]], dtype=torch.float64)\n",
      "tensor([[3.0500e-01, 7.7532e+02, 5.8728e-01],\n",
      "        [5.1107e-01, 6.9418e+02, 1.0462e+00],\n",
      "        [7.0308e-01, 5.5789e+02, 1.3487e+00],\n",
      "        [8.9560e-01, 5.3951e+02, 1.7688e+00],\n",
      "        [1.1444e+00, 4.9358e+02, 2.3229e+00],\n",
      "        [1.4059e+00, 4.7312e+02, 2.8433e+00],\n",
      "        [1.6189e+00, 6.9757e+02, 3.2463e+00],\n",
      "        [1.8247e+00, 9.8951e+02, 3.7451e+00],\n",
      "        [2.0363e+00, 1.2479e+03, 4.2663e+00],\n",
      "        [2.2023e+00, 1.4709e+03, 4.5310e+00],\n",
      "        [2.3710e+00, 1.7063e+03, 4.5893e+00],\n",
      "        [2.4474e+00, 1.8711e+03, 4.6029e+00]], dtype=torch.float64)\n",
      "tensor([[2.6670e-01, 7.2290e+02, 4.6200e-01],\n",
      "        [4.5930e-01, 5.7480e+02, 7.7700e-01],\n",
      "        [6.3910e-01, 5.1690e+02, 1.2180e+00],\n",
      "        [8.7080e-01, 4.0420e+02, 1.8060e+00],\n",
      "        [1.1327e+00, 3.3580e+02, 2.3520e+00],\n",
      "        [1.3546e+00, 5.3840e+02, 2.7720e+00],\n",
      "        [1.5643e+00, 8.1020e+02, 3.3180e+00],\n",
      "        [1.7803e+00, 1.0283e+03, 3.9690e+00],\n",
      "        [1.9670e+00, 1.2304e+03, 4.3680e+00],\n",
      "        [2.1856e+00, 1.4846e+03, 4.5360e+00],\n",
      "        [2.2902e+00, 1.6678e+03, 4.6200e+00],\n",
      "        [2.3581e+00, 1.8851e+03, 4.5570e+00]])\n"
     ]
    }
   ],
   "source": [
    "\n",
    "\n",
    "book = xlrd.open_workbook('Experimental Data edited.xlsx')\n",
    "sheet = book.sheet_by_name('Sheet2')\n",
    "data = [[sheet.cell_value(r, c)\n",
    "         for c in range(1,6)] for r in range(114,126)]\n",
    "data2 = [[sheet.cell_value(r, c)\n",
    "         for c in range(1,4)] for r in range(114,126)]\n",
    "data3 = [[sheet.cell_value(r, c)\n",
    "         for c in range(1,4)] for r in range(115,127)]\n",
    "scaler = StandardScaler(with_mean=True, with_std=True)\n",
    "\n",
    "\n",
    "scaler.fit(data4)\n",
    "scaler2.fit(data5)\n",
    "n = np.array(data)\n",
    "q= torch.tensor(n[:,:])\n",
    "standardised_data = scaler.transform(data)\n",
    "\n",
    "standardised_data2 = standardised_data[:, 0:3] \n",
    "\n",
    "\n",
    "\n",
    "x = torch.tensor(standardised_data)\n",
    "z = torch.tensor(standardised_data2)\n",
    "v = torch.tensor(data3)\n",
    "\n",
    "with torch.no_grad():\n",
    "        dx_dt_pred = model(x.float())\n",
    "     \n",
    "        predictions= np.array(dx_dt_pred)\n",
    "        descaled_predictions = scaler2.inverse_transform(predictions)\n",
    "        usable_predictions = torch.tensor(descaled_predictions)\n",
    "        q[:, 0:3]  = (usable_predictions*12) + q[:, 0:3]\n",
    "        print(q[:, 0:3])\n",
    "        np_x = np.array(q[:, 0:3])\n",
    "    \n",
    " \n",
    "        results=torch.tensor(np_x)\n",
    "predictions_final=torch.tensor(results)  \n",
    "print(results)\n",
    "x_plot=predictions_final.view(12, 3)\n",
    "print(x_plot) \n",
    "\n",
    "print(v)\n",
    "\n",
    "\n"
   ]
  },
  {
   "cell_type": "code",
   "execution_count": 17,
   "metadata": {},
   "outputs": [
    {
     "data": {
      "image/png": "[encoded data removed]",
      "text/plain": [
       "<Figure size 432x288 with 1 Axes>"
      ]
     },
     "metadata": {
      "needs_background": "light"
     },
     "output_type": "display_data"
    },
    {
     "data": {
      "image/png": "[encoded data removed]",
      "text/plain": [
       "<Figure size 432x288 with 1 Axes>"
      ]
     },
     "metadata": {
      "needs_background": "light"
     },
     "output_type": "display_data"
    },
    {
     "data": {
      "image/png": "[encoded data removed]",
      "text/plain": [
       "<Figure size 432x288 with 1 Axes>"
      ]
     },
     "metadata": {
      "needs_background": "light"
     },
     "output_type": "display_data"
    }
   ],
   "source": [
    "def MAPE(y_true, y_pred):\n",
    "    MAPE_Total=0\n",
    "    for i in range(len(y_pred)):\n",
    "        MAPE = torch.abs((y_true[i:1+i,:]-y_pred[i:1+i,:])/y_true[i:1+i,:])\n",
    "        MAPE_Total += (MAPE/len(y_pred))*100\n",
    "    return MAPE_Total\n",
    "\n",
    "import numpy as np\n",
    "a = np.linspace(12,144,12)\n",
    "v = torch.tensor(data3)\n",
    "import matplotlib.pyplot as plt \n",
    "y1 = x_plot[:, 0:1] \n",
    "x1 = a\n",
    "plt.plot(x1, y1,'o' ,label = \"predicted\") \n",
    "\n",
    "y2 = v[:, 0:1] \n",
    "x2 = a\n",
    "plt.plot(x2, y2, 'o',label = \"experimental\") \n",
    "plt.xlabel('time (h)')\n",
    "plt.ylabel('Biomass Conc (g/L)')\n",
    "loss = MAPE(v[:, 0:1],x_plot[:, 0:1])\n",
    "plt.title(('MAPE = {:.2f}'.format(loss.item())))\n",
    "plt.grid(b=True,which='major', axis='both')\n",
    "plt.legend()\n",
    "plt.show() \n",
    "\n",
    "\n",
    "y1 = x_plot[:, 1:2] \n",
    "x1 = a\n",
    "plt.plot(x1, y1,'o',label = \"predicted\") \n",
    "\n",
    "y2 = v[:, 1:2] \n",
    "x2 = a\n",
    "plt.plot(x2, y2,'o',label = \"experimental\") \n",
    "plt.xlabel('time (h)')\n",
    "plt.ylabel('Nitrate Conc (mg/L)')\n",
    "loss = MAPE(v[:, 1:2],x_plot[:, 1:2])\n",
    "plt.title(('MAPE = {:.2f}'.format(loss.item())))\n",
    "plt.grid(b=True,which='major', axis='both')\n",
    "plt.legend()\n",
    "plt.show() \n",
    "\n",
    "y1 = x_plot[:, 2:3] \n",
    "x1 = a\n",
    "plt.plot(x1, y1,'o',label = \"predicted\") \n",
    "\n",
    "y2 = v[:, 2:3] \n",
    "x2 = a\n",
    "plt.plot(x2, y2,'o',label = \"experimental\") \n",
    "plt.xlabel('time (h)')\n",
    "plt.ylabel('Lutein Production (mg/L)')\n",
    "loss = MAPE(v[:, 2:3],x_plot[:, 2:3])\n",
    "plt.title(('MAPE = {:.2f}'.format(loss.item())))\n",
    "plt.grid(b=True,which='major', axis='both')\n",
    "plt.legend()\n",
    "plt.show() \n"
   ]
  },
  {
   "cell_type": "code",
   "execution_count": 18,
   "metadata": {},
   "outputs": [],
   "source": [
    "import pandas as pd\n",
    "b=np.array(v)\n",
    "c=np.array(x_plot)\n",
    "book = xlrd.open_workbook('tested data.xlsx')\n",
    "sheet = book.sheet_by_name('Sheet1')\n",
    "writer = pd.ExcelWriter('tested data.xlsx', engine='xlsxwriter')\n",
    "df1 = pd.DataFrame(b)\n",
    "df1.to_excel(writer, header=True, index=True)\n",
    "df2 = pd.DataFrame(c)\n",
    "df2.to_excel(writer, startrow=13, header=True, index=True)\n",
    "writer.save()"
   ]
  }
 ],
 "metadata": {
  "kernelspec": {
   "display_name": "Python 3",
   "language": "python",
   "name": "python3"
  },
  "language_info": {
   "codemirror_mode": {
    "name": "ipython",
    "version": 3
   },
   "file_extension": ".py",
   "mimetype": "text/x-python",
   "name": "python",
   "nbconvert_exporter": "python",
   "pygments_lexer": "ipython3",
   "version": "3.7.3"
  }
 },
 "nbformat": 4,
 "nbformat_minor": 2
}
