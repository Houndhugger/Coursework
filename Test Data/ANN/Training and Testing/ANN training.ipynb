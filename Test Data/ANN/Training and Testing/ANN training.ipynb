{
 "cells": [
  {
   "cell_type": "code",
   "execution_count": 2,
   "metadata": {},
   "outputs": [
    {
     "name": "stdout",
     "output_type": "stream",
     "text": [
      "[1.17675597e+00 2.50709764e+03 2.03210694e+00 3.30000000e+02\n",
      " 3.00000000e-01 1.51537037e-02 4.70249769e+01 2.63078704e-02] [5.28799796e-01 1.01306701e+07 1.74931795e+00 2.70000000e+04\n",
      " 4.00000000e-02 2.61359971e-05 5.06386030e+03 2.10257371e-04]\n",
      "tensor([[ 2.0648,  3.4563,  1.7584,  0.9129,  1.0000],\n",
      "        [-1.5128, -0.5423, -1.5364,  1.6432, -1.0000],\n",
      "        [ 0.8102, -0.3550,  1.0736, -0.1826, -1.0000],\n",
      "        ...,\n",
      "        [ 1.2838, -0.2114,  1.2788, -0.1826, -1.0000],\n",
      "        [-0.6283, -0.6897, -0.6911, -0.1826,  1.0000],\n",
      "        [ 0.4352, -0.1845,  0.3689, -1.0954, -1.0000]], dtype=torch.float64)\n",
      "tensor([[-2.4590,  1.1765, -0.1819],\n",
      "        [ 1.5175, -0.7490,  1.6767],\n",
      "        [ 0.5515, -0.3789, -1.2194],\n",
      "        ...,\n",
      "        [-1.7414, -0.3063, -3.1062],\n",
      "        [ 1.5242, -0.7348, -0.1501],\n",
      "        [-3.1545, -0.2944, -2.5301]], dtype=torch.float64)\n"
     ]
    }
   ],
   "source": [
    "import torch\n",
    "import numpy as np\n",
    "from sklearn.preprocessing import StandardScaler\n",
    "\n",
    "\n",
    "\n",
    "\n",
    "import xlrd\n",
    "import pandas as pd\n",
    "\n",
    "book = xlrd.open_workbook('dataset for standardisation.xlsx')\n",
    "sheet = book.sheet_by_name('Sheet1')\n",
    "data_unreplicated = [[sheet.cell_value(r, c)\n",
    "         for c in range(1,9)] for r in range(2,74)]\n",
    "scaler = StandardScaler()\n",
    "scaler.fit(data_unreplicated)\n",
    "\n",
    "print(scaler.mean_, scaler.var_)\n",
    "\n",
    "book = xlrd.open_workbook('prepareddata.xlsx')\n",
    "sheet = book.sheet_by_name('Sheet1')\n",
    "replicated_data = [[sheet.cell_value(r, c)\n",
    "         for c in range(0,8)] for r in range(0,7272)]\n",
    "\n",
    "standardised_data = scaler.transform(replicated_data)\n",
    "np.random.shuffle(standardised_data)\n",
    "array1 = standardised_data[:, 0:5]\n",
    "array2 = standardised_data[:, 5:8]\n",
    "x = torch.tensor(array1)\n",
    "y = torch.tensor(array2)\n",
    "\n",
    "print(x)\n",
    "print(y)\n"
   ]
  },
  {
   "cell_type": "code",
   "execution_count": 25,
   "metadata": {},
   "outputs": [],
   "source": [
    "\n"
   ]
  },
  {
   "cell_type": "code",
   "execution_count": 3,
   "metadata": {},
   "outputs": [],
   "source": [
    "import torch.nn as nn\n",
    "class Net(nn.Module):\n",
    "    def __init__(self, D_in, H1, H2, D_out):\n",
    " \n",
    "        super(Net, self).__init__()\n",
    "        self.linear1 = nn.Linear(D_in, H1) \n",
    "        self.linear2 = nn.Linear(H1, H2)\n",
    "        self.linear3 = nn.Linear(H2, D_out)\n",
    "  \n",
    "    def forward(self, x):\n",
    "    \n",
    "        x = torch.sigmoid(self.linear1(x))\n",
    "        x = torch.sigmoid(self.linear2(x))\n",
    "        x = self.linear3(x)\n",
    "        return x\n",
    "\n"
   ]
  },
  {
   "cell_type": "code",
   "execution_count": 4,
   "metadata": {},
   "outputs": [],
   "source": [
    "# N is batch size; D_in is input dimension;\n",
    "# H is hidden dimension; D_out is output dimension.\n",
    "N, D_in, H1, H2, D_out = 50, 5, 20, 12, 3\n",
    "model = Net(D_in, H1, H2, D_out)\n",
    "loss_fn = torch.nn.MSELoss(reduction='mean')"
   ]
  },
  {
   "cell_type": "code",
   "execution_count": 5,
   "metadata": {},
   "outputs": [
    {
     "name": "stderr",
     "output_type": "stream",
     "text": [
      "100%|███████████████████████████████████████████████████████████████████████████████| 146/146 [00:00<00:00, 508.75it/s]\n"
     ]
    },
    {
     "name": "stdout",
     "output_type": "stream",
     "text": [
      "0 1.4624454975128174\n"
     ]
    },
    {
     "name": "stderr",
     "output_type": "stream",
     "text": [
      "100%|███████████████████████████████████████████████████████████████████████████████| 146/146 [00:00<00:00, 920.46it/s]\n"
     ]
    },
    {
     "name": "stdout",
     "output_type": "stream",
     "text": [
      "1 1.1826165914535522\n"
     ]
    },
    {
     "name": "stderr",
     "output_type": "stream",
     "text": [
      "100%|███████████████████████████████████████████████████████████████████████████████| 146/146 [00:00<00:00, 920.95it/s]\n"
     ]
    },
    {
     "name": "stdout",
     "output_type": "stream",
     "text": [
      "2 0.951331615447998\n"
     ]
    },
    {
     "name": "stderr",
     "output_type": "stream",
     "text": [
      "100%|███████████████████████████████████████████████████████████████████████████████| 146/146 [00:00<00:00, 950.59it/s]\n"
     ]
    },
    {
     "name": "stdout",
     "output_type": "stream",
     "text": [
      "3 0.8464053869247437\n"
     ]
    },
    {
     "name": "stderr",
     "output_type": "stream",
     "text": [
      "100%|███████████████████████████████████████████████████████████████████████████████| 146/146 [00:00<00:00, 950.42it/s]\n"
     ]
    },
    {
     "name": "stdout",
     "output_type": "stream",
     "text": [
      "4 0.7892499566078186\n"
     ]
    },
    {
     "name": "stderr",
     "output_type": "stream",
     "text": [
      "100%|███████████████████████████████████████████████████████████████████████████████| 146/146 [00:00<00:00, 909.26it/s]\n"
     ]
    },
    {
     "name": "stdout",
     "output_type": "stream",
     "text": [
      "5 0.7633183598518372\n"
     ]
    },
    {
     "name": "stderr",
     "output_type": "stream",
     "text": [
      "100%|███████████████████████████████████████████████████████████████████████████████| 146/146 [00:00<00:00, 989.22it/s]\n"
     ]
    },
    {
     "name": "stdout",
     "output_type": "stream",
     "text": [
      "6 0.7469987869262695\n"
     ]
    },
    {
     "name": "stderr",
     "output_type": "stream",
     "text": [
      "100%|███████████████████████████████████████████████████████████████████████████████| 146/146 [00:00<00:00, 995.86it/s]\n"
     ]
    },
    {
     "name": "stdout",
     "output_type": "stream",
     "text": [
      "7 0.731285810470581\n"
     ]
    },
    {
     "name": "stderr",
     "output_type": "stream",
     "text": [
      "100%|███████████████████████████████████████████████████████████████████████████████| 146/146 [00:00<00:00, 995.64it/s]\n"
     ]
    },
    {
     "name": "stdout",
     "output_type": "stream",
     "text": [
      "8 0.714310884475708\n"
     ]
    },
    {
     "name": "stderr",
     "output_type": "stream",
     "text": [
      "100%|███████████████████████████████████████████████████████████████████████████████| 146/146 [00:00<00:00, 982.49it/s]\n"
     ]
    },
    {
     "name": "stdout",
     "output_type": "stream",
     "text": [
      "9 0.6958440542221069\n"
     ]
    },
    {
     "name": "stderr",
     "output_type": "stream",
     "text": [
      "100%|███████████████████████████████████████████████████████████████████████████████| 146/146 [00:00<00:00, 998.03it/s]\n"
     ]
    },
    {
     "name": "stdout",
     "output_type": "stream",
     "text": [
      "10 0.6759512424468994\n"
     ]
    },
    {
     "name": "stderr",
     "output_type": "stream",
     "text": [
      "100%|███████████████████████████████████████████████████████████████████████████████| 146/146 [00:00<00:00, 959.30it/s]\n"
     ]
    },
    {
     "name": "stdout",
     "output_type": "stream",
     "text": [
      "11 0.6547552347183228\n"
     ]
    },
    {
     "name": "stderr",
     "output_type": "stream",
     "text": [
      "100%|███████████████████████████████████████████████████████████████████████████████| 146/146 [00:00<00:00, 980.35it/s]\n"
     ]
    },
    {
     "name": "stdout",
     "output_type": "stream",
     "text": [
      "12 0.632462203502655\n"
     ]
    },
    {
     "name": "stderr",
     "output_type": "stream",
     "text": [
      "100%|███████████████████████████████████████████████████████████████████████████████| 146/146 [00:00<00:00, 831.67it/s]\n"
     ]
    },
    {
     "name": "stdout",
     "output_type": "stream",
     "text": [
      "13 0.6094439029693604\n"
     ]
    },
    {
     "name": "stderr",
     "output_type": "stream",
     "text": [
      "100%|███████████████████████████████████████████████████████████████████████████████| 146/146 [00:00<00:00, 975.55it/s]\n"
     ]
    },
    {
     "name": "stdout",
     "output_type": "stream",
     "text": [
      "14 0.5862301588058472\n"
     ]
    },
    {
     "name": "stderr",
     "output_type": "stream",
     "text": [
      "100%|███████████████████████████████████████████████████████████████████████████████| 146/146 [00:00<00:00, 899.05it/s]\n"
     ]
    },
    {
     "name": "stdout",
     "output_type": "stream",
     "text": [
      "15 0.5633643865585327\n"
     ]
    },
    {
     "name": "stderr",
     "output_type": "stream",
     "text": [
      "100%|███████████████████████████████████████████████████████████████████████████████| 146/146 [00:00<00:00, 878.64it/s]\n"
     ]
    },
    {
     "name": "stdout",
     "output_type": "stream",
     "text": [
      "16 0.5412917733192444\n"
     ]
    },
    {
     "name": "stderr",
     "output_type": "stream",
     "text": [
      "100%|███████████████████████████████████████████████████████████████████████████████| 146/146 [00:00<00:00, 904.54it/s]\n"
     ]
    },
    {
     "name": "stdout",
     "output_type": "stream",
     "text": [
      "17 0.5203737020492554\n"
     ]
    },
    {
     "name": "stderr",
     "output_type": "stream",
     "text": [
      "100%|███████████████████████████████████████████████████████████████████████████████| 146/146 [00:00<00:00, 928.55it/s]\n"
     ]
    },
    {
     "name": "stdout",
     "output_type": "stream",
     "text": [
      "18 0.5009312629699707\n"
     ]
    },
    {
     "name": "stderr",
     "output_type": "stream",
     "text": [
      "100%|███████████████████████████████████████████████████████████████████████████████| 146/146 [00:00<00:00, 982.49it/s]\n"
     ]
    },
    {
     "name": "stdout",
     "output_type": "stream",
     "text": [
      "19 0.48324331641197205\n"
     ]
    },
    {
     "name": "stderr",
     "output_type": "stream",
     "text": [
      "100%|███████████████████████████████████████████████████████████████████████████████| 146/146 [00:00<00:00, 939.45it/s]\n"
     ]
    },
    {
     "name": "stdout",
     "output_type": "stream",
     "text": [
      "20 0.4674999415874481\n",
      "tensor([[-0.6218, -0.7024,  0.3110],\n",
      "        [-0.9054,  0.9122, -0.2337],\n",
      "        [-0.4277,  0.9579, -0.4600],\n",
      "        [-1.1800, -0.6826,  0.4420],\n",
      "        [-0.6185, -0.4161, -0.4296],\n",
      "        [ 1.5696, -0.7599,  1.7698],\n",
      "        [ 1.4593, -0.7337, -0.0959],\n",
      "        [ 0.7082, -0.4049,  0.3363],\n",
      "        [ 2.0233, -0.7023,  0.7455],\n",
      "        [-0.8242, -0.3994, -2.3401],\n",
      "        [ 1.0950, -0.7487,  1.6275],\n",
      "        [ 1.2591,  1.5909, -0.8053],\n",
      "        [-0.6527, -0.9746,  0.0714],\n",
      "        [ 0.3676, -0.7843,  0.3007],\n",
      "        [-0.8101, -0.3641,  1.4566],\n",
      "        [-0.5074,  1.0160, -0.9332],\n",
      "        [-1.5097,  1.8185, -1.4950],\n",
      "        [-2.7136, -0.2823, -3.0610],\n",
      "        [-0.5827,  0.7602, -0.6508],\n",
      "        [-1.7414, -0.3063, -3.1062],\n",
      "        [ 1.5242, -0.7348, -0.1501],\n",
      "        [-3.1545, -0.2944, -2.5301]], dtype=torch.float64)\n",
      "tensor([[ 0.0189, -0.7248,  0.4013],\n",
      "        [-0.6114,  1.4631, -0.5895],\n",
      "        [-0.1259,  1.3603, -0.2834],\n",
      "        [-0.2447, -0.7362,  0.1970],\n",
      "        [-0.7607, -0.6575, -0.5808],\n",
      "        [ 1.1883, -0.7057,  1.2894],\n",
      "        [ 0.9942, -0.5640,  0.5225],\n",
      "        [-0.2108, -0.4055, -0.5189],\n",
      "        [ 0.3274, -0.7071,  0.6129],\n",
      "        [-0.7945, -0.1402, -1.3342],\n",
      "        [ 1.4041, -0.6951,  1.4206],\n",
      "        [-0.0171,  1.4162, -0.2281],\n",
      "        [ 0.7055, -0.7364,  0.5649],\n",
      "        [ 0.8556, -0.3180,  0.3134],\n",
      "        [ 0.3563, -0.6645,  0.5136],\n",
      "        [-0.4445,  1.4654, -0.4866],\n",
      "        [-0.2544,  1.4592, -0.3709],\n",
      "        [-1.2518,  0.0352, -1.8076],\n",
      "        [-0.7710,  1.4822, -0.6549],\n",
      "        [-1.2213,  0.0231, -1.7865],\n",
      "        [ 0.9934, -0.5635,  0.5213],\n",
      "        [-1.2661, -0.2882, -1.6482]], grad_fn=<AddmmBackward>)\n"
     ]
    }
   ],
   "source": []
  },
  {
   "cell_type": "code",
   "execution_count": 6,
   "metadata": {},
   "outputs": [],
   "source": [
    "torch.save(model.state_dict(), (\"C:/Users/Gabriel/Documents/Python/ANN2.pt\"))                \n",
    "                                "
   ]
  },
  {
   "cell_type": "code",
   "execution_count": 30,
   "metadata": {},
   "outputs": [
    {
     "name": "stdout",
     "output_type": "stream",
     "text": [
      "[[0.01783333333333333, 24.988333333333344, 0.050833333333333335], [0.023416666666666665, -32.44333333333335, 0.04166666666666668], [0.02313333333333334, -9.365833333333322, 0.041666666666666664], [0.020691666666666674, 32.817499999999995, 0.034999999999999976], [0.019733333333333325, -26.63583333333334, 0.03500000000000003], [0.015975, 132.69500000000005, 0.02749999999999997], [0.01776666666666667, 242.3891666666666, 0.027500000000000007], [0.012699999999999989, 146.2941666666667, 0.029166666666666674], [0.013891666666666672, 193.01666666666657, 0.01416666666666666], [0.01153333333333332, 129.1691666666667, 0.025000000000000022], [0.009850000000000025, 118.19666666666672, 0.01833333333333335], [0.010924999999999999, 140.48833333333323, 0.00916666666666662]]\n"
     ]
    }
   ],
   "source": [
    "print(data2)"
   ]
  }
 ],
 "metadata": {
  "kernelspec": {
   "display_name": "Python 3",
   "language": "python",
   "name": "python3"
  },
  "language_info": {
   "codemirror_mode": {
    "name": "ipython",
    "version": 3
   },
   "file_extension": ".py",
   "mimetype": "text/x-python",
   "name": "python",
   "nbconvert_exporter": "python",
   "pygments_lexer": "ipython3",
   "version": "3.7.3"
  }
 },
 "nbformat": 4,
 "nbformat_minor": 2
}
