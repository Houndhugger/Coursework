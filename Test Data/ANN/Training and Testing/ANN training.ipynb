{
 "cells": [
  {
   "cell_type": "code",
   "execution_count": null,
   "metadata": {},
   "outputs": [],
   "source": [
    "import torch\n",
    "import numpy as np\n",
    "from sklearn.preprocessing import StandardScaler\n",
    "import xlrd\n",
    "import pandas as pd\n",
    "\n",
    "#original data used to stadarise replicated data\n",
    "book = xlrd.open_workbook('dataset for standardisation.xlsx')\n",
    "sheet = book.sheet_by_name('Sheet1')\n",
    "data_unreplicated = [[sheet.cell_value(r, c)\n",
    "         for c in range(1,9)] for r in range(2,74)]\n",
    "scaler = StandardScaler()\n",
    "scaler.fit(data_unreplicated)\n",
    "\n",
    "#replicated data\n",
    "book = xlrd.open_workbook('prepareddata.xlsx')\n",
    "sheet = book.sheet_by_name('Sheet1')\n",
    "replicated_data = [[sheet.cell_value(r, c)\n",
    "         for c in range(0,8)] for r in range(0,7272)]\n",
    "\n",
    "#standardise\n",
    "standardised_data = scaler.transform(replicated_data)\n",
    "np.random.shuffle(standardised_data)\n",
    "#split into inputs and targets\n",
    "array1 = standardised_data[:, 0:5]\n",
    "array2 = standardised_data[:, 5:8]\n",
    "x = torch.tensor(array1)\n",
    "y = torch.tensor(array2)\n",
    "\n"
   ]
  },
  {
   "cell_type": "code",
   "execution_count": null,
   "metadata": {},
   "outputs": [],
   "source": [
    "#define model\n",
    "import torch.nn as nn\n",
    "class Net(nn.Module):\n",
    "    def __init__(self, D_in, H1, H2, D_out):\n",
    " \n",
    "        super(Net, self).__init__()\n",
    "        self.linear1 = nn.Linear(D_in, H1) \n",
    "        self.linear2 = nn.Linear(H1, H2) \n",
    "        self.linear3 = nn.Linear(H2, D_out)\n",
    "  \n",
    "    def forward(self, x):\n",
    "    \n",
    "        x = torch.sigmoid(self.linear1(x))\n",
    "        x = torch.sigmoid(self.linear2(x))\n",
    "        x = self.linear3(x)\n",
    "        return x\n",
    "\n"
   ]
  },
  {
   "cell_type": "code",
   "execution_count": null,
   "metadata": {},
   "outputs": [],
   "source": [
    "# N is batch size; D_in is input dimension;\n",
    "# H is hidden dimension; D_out is output dimension.\n",
    "N, D_in, H1, H2, D_out = 100, 5, 15, 9, 3\n",
    "model = Net(D_in, H1, H2, D_out)\n",
    "loss_fn = torch.nn.MSELoss(reduction='mean')"
   ]
  },
  {
   "cell_type": "code",
   "execution_count": null,
   "metadata": {},
   "outputs": [],
   "source": [
    "#put into batches\n",
    "train = torch.utils.data.TensorDataset(x, y)\n",
    "train_loader = torch.utils.data.DataLoader(train, batch_size=N, shuffle=True)\n",
    "model.train()\n",
    "#define remaining hyperparameters\n",
    "train_epochs=100\n",
    "learning_rate=1e-3\n",
    "optimizer = torch.optim.Adam(model.parameters(), lr=learning_rate)\n",
    "\n",
    "#train\n",
    "for epoch in range(train_epochs):\n",
    "    avg_loss=0\n",
    "    for x_batch, y_batch in train_loader:\n",
    "        y_pred = model(x_batch.float())\n",
    "        loss = loss_fn(y_pred, y_batch.float())\n",
    "        avg_loss += loss/ len(train_loader.dataset)\n",
    "        optimizer.zero_grad()\n",
    "        loss.backward()\n",
    "        optimizer.step()\n",
    "    print(epoch,avg_loss)"
   ]
  },
  {
   "cell_type": "code",
   "execution_count": null,
   "metadata": {},
   "outputs": [],
   "source": [
    "#save trained model\n",
    "torch.save(model.state_dict(), (\"C:/Users/Gabriel/Documents/Python/ANN2.pt\"))                \n",
    "                                "
   ]
  }
 ],
 "metadata": {
  "kernelspec": {
   "display_name": "Python 3",
   "language": "python",
   "name": "python3"
  },
  "language_info": {
   "codemirror_mode": {
    "name": "ipython",
    "version": 3
   },
   "file_extension": ".py",
   "mimetype": "text/x-python",
   "name": "python",
   "nbconvert_exporter": "python",
   "pygments_lexer": "ipython3",
   "version": "3.7.3"
  }
 },
 "nbformat": 4,
 "nbformat_minor": 2
}
