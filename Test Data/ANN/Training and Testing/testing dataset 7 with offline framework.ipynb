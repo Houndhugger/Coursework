{
 "cells": [
  {
   "cell_type": "code",
   "execution_count": 1,
   "metadata": {},
   "outputs": [],
   "source": [
    "import torch.nn as nn\n",
    "class Net(nn.Module):\n",
    "    def __init__(self, D_in, H1, H2, D_out):\n",
    " \n",
    "        super(Net, self).__init__()\n",
    "        self.linear1 = nn.Linear(D_in, H1) \n",
    "        self.linear2 = nn.Linear(H1, H2)\n",
    "        self.linear3 = nn.Linear(H2, D_out)\n",
    "  \n",
    "    def forward(self, x):\n",
    "    \n",
    "        x = torch.sigmoid(self.linear1(x))\n",
    "        x = torch.sigmoid(self.linear2(x))\n",
    "        x = self.linear3(x)\n",
    "        return x\n"
   ]
  },
  {
   "cell_type": "code",
   "execution_count": 7,
   "metadata": {},
   "outputs": [],
   "source": [
    "import torch \n",
    "import xlrd\n",
    "from sklearn.preprocessing import StandardScaler\n",
    "import numpy as np\n",
    "\n",
    "N, D_in, H1, H2, D_out = 40, 5, 20, 12, 3\n",
    "model = Net(D_in, H1, H2, D_out)\n",
    "\n",
    "model.load_state_dict(torch.load(\"C:/Users/Gabriel/Documents/Python/ANN2.pt\"))\n",
    "model.eval()\n",
    "book = xlrd.open_workbook('dataset for standardisation.xlsx')\n",
    "sheet = book.sheet_by_name('Sheet1')\n",
    "data4 = [[sheet.cell_value(r, c)\n",
    "         for c in range(1,6)] for r in range(2,74)]\n",
    "data5 = [[sheet.cell_value(r, c)\n",
    "         for c in range(6,9)] for r in range(2,74)]\n",
    "scaler = StandardScaler()\n",
    "scaler2 = StandardScaler()\n"
   ]
  },
  {
   "cell_type": "code",
   "execution_count": 8,
   "metadata": {},
   "outputs": [
    {
     "name": "stdout",
     "output_type": "stream",
     "text": [
      "tensor([[3.0347e-01, 7.3614e+02, 4.8432e-01]], dtype=torch.float64)\n",
      "tensor([[5.4073e-01, 6.9435e+02, 9.8977e-01]], dtype=torch.float64)\n",
      "tensor([[  0.7868, 658.6034,   1.5109]], dtype=torch.float64)\n",
      "tensor([[  1.0378, 628.0050,   2.0394]], dtype=torch.float64)\n",
      "tensor([[  1.2888, 602.3057,   2.5650]], dtype=torch.float64)\n",
      "tensor([[  1.5338, 584.2890,   3.0726]], dtype=torch.float64)\n",
      "tensor([[  1.7644, 586.5163,   3.5365]], dtype=torch.float64)\n",
      "tensor([[  1.9715, 643.7644,   3.9190]], dtype=torch.float64)\n",
      "tensor([[  2.1505, 803.8908,   4.1902]], dtype=torch.float64)\n",
      "tensor([[   2.3047, 1085.1963,    4.3576]], dtype=torch.float64)\n",
      "tensor([[   2.4406, 1478.8563,    4.4519]], dtype=torch.float64)\n",
      "tensor([[   2.5639, 1977.9944,    4.5017]], dtype=torch.float64)\n",
      "tensor([[3.0347e-01, 7.3614e+02, 4.8432e-01],\n",
      "        [5.4073e-01, 6.9435e+02, 9.8977e-01],\n",
      "        [7.8682e-01, 6.5860e+02, 1.5109e+00],\n",
      "        [1.0378e+00, 6.2801e+02, 2.0394e+00],\n",
      "        [1.2888e+00, 6.0231e+02, 2.5650e+00],\n",
      "        [1.5338e+00, 5.8429e+02, 3.0726e+00],\n",
      "        [1.7644e+00, 5.8652e+02, 3.5365e+00],\n",
      "        [1.9715e+00, 6.4376e+02, 3.9190e+00],\n",
      "        [2.1505e+00, 8.0389e+02, 4.1902e+00],\n",
      "        [2.3047e+00, 1.0852e+03, 4.3576e+00],\n",
      "        [2.4406e+00, 1.4789e+03, 4.4519e+00],\n",
      "        [2.5639e+00, 1.9780e+03, 4.5017e+00]], dtype=torch.float64)\n",
      "tensor([[2.6670e-01, 7.2290e+02, 4.6200e-01],\n",
      "        [4.5930e-01, 5.7480e+02, 7.7700e-01],\n",
      "        [6.3910e-01, 5.1690e+02, 1.2180e+00],\n",
      "        [8.7080e-01, 4.0420e+02, 1.8060e+00],\n",
      "        [1.1327e+00, 3.3580e+02, 2.3520e+00],\n",
      "        [1.3546e+00, 5.3840e+02, 2.7720e+00],\n",
      "        [1.5643e+00, 8.1020e+02, 3.3180e+00],\n",
      "        [1.7803e+00, 1.0283e+03, 3.9690e+00],\n",
      "        [1.9670e+00, 1.2304e+03, 4.3680e+00],\n",
      "        [2.1856e+00, 1.4846e+03, 4.5360e+00],\n",
      "        [2.2902e+00, 1.6678e+03, 4.6200e+00],\n",
      "        [2.3581e+00, 1.8851e+03, 4.5570e+00]])\n"
     ]
    }
   ],
   "source": [
    "\n",
    "\n",
    "book = xlrd.open_workbook('Experimental Data edited.xlsx')\n",
    "sheet = book.sheet_by_name('Sheet2')\n",
    "data = [[sheet.cell_value(r, c)\n",
    "         for c in range(1,6)] for r in range(114,126)]\n",
    "data2 = [[sheet.cell_value(r, c)\n",
    "         for c in range(1,4)] for r in range(114,126)]\n",
    "data3 = [[sheet.cell_value(r, c)\n",
    "         for c in range(1,4)] for r in range(115,127)]\n",
    "scaler = StandardScaler(with_mean=True, with_std=True)\n",
    "\n",
    "\n",
    "scaler.fit(data4)\n",
    "scaler2.fit(data5)\n",
    "n = np.array(data)\n",
    "q= torch.tensor(n[0:1,:])\n",
    "standardised_data = scaler.transform(data)\n",
    "\n",
    "standardised_data2 = standardised_data[:, 0:3] \n",
    "\n",
    "\n",
    "\n",
    "x = torch.tensor(standardised_data[0:1,:])\n",
    "z = torch.tensor(standardised_data2[0:1,:])\n",
    "v = torch.tensor(data3)\n",
    "results=[]\n",
    "for i in range(12):\n",
    "     with torch.no_grad():\n",
    "        dx_dt_pred = model(x.float())\n",
    "     \n",
    "        predictions= np.array(dx_dt_pred)\n",
    "        descaled_predictions = scaler2.inverse_transform(predictions)\n",
    "        usable_predictions = torch.tensor(descaled_predictions)\n",
    "        q[:, 0:3]  = (usable_predictions*12) + q[:, 0:3]\n",
    "        print(q[:, 0:3])\n",
    "        np_x = np.array(q)\n",
    "        results.append(np_x[:, 0:3])\n",
    "        standardised_data3 = scaler.transform(np_x)\n",
    "        x=torch.tensor(standardised_data3)\n",
    "predictions_final=torch.tensor(results)  \n",
    "\n",
    "x_plot=predictions_final.view(12, 3)\n",
    "print(x_plot) \n",
    "\n",
    "print(v)\n",
    "\n",
    "\n"
   ]
  },
  {
   "cell_type": "code",
   "execution_count": 9,
   "metadata": {},
   "outputs": [
    {
     "data": {
      "image/png": "[encoded data removed]",
      "text/plain": [
       "<Figure size 432x288 with 1 Axes>"
      ]
     },
     "metadata": {
      "needs_background": "light"
     },
     "output_type": "display_data"
    },
    {
     "data": {
      "image/png": "[encoded data removed]",
      "text/plain": [
       "<Figure size 432x288 with 1 Axes>"
      ]
     },
     "metadata": {
      "needs_background": "light"
     },
     "output_type": "display_data"
    },
    {
     "data": {
      "image/png": "[encoded data removed]",
      "text/plain": [
       "<Figure size 432x288 with 1 Axes>"
      ]
     },
     "metadata": {
      "needs_background": "light"
     },
     "output_type": "display_data"
    }
   ],
   "source": [
    "def MAPE(y_true, y_pred):\n",
    "    MAPE_Total=0\n",
    "    for i in range(len(y_pred)):\n",
    "        MAPE = torch.abs((y_true[i:1+i,:]-y_pred[i:1+i,:])/y_true[i:1+i,:])\n",
    "        MAPE_Total += (MAPE/len(y_pred))*100\n",
    "    return MAPE_Total\n",
    "\n",
    "import numpy as np\n",
    "a = np.linspace(12,144,12)\n",
    "v = torch.tensor(data3)\n",
    "import matplotlib.pyplot as plt \n",
    "y1 = x_plot[:, 0:1] \n",
    "x1 = a\n",
    "plt.plot(x1, y1,'o' ,label = \"predicted\") \n",
    "\n",
    "y2 = v[:, 0:1] \n",
    "x2 = a\n",
    "plt.plot(x2, y2, 'o',label = \"experimental\") \n",
    "plt.xlabel('time (h)')\n",
    "plt.ylabel('Biomass Conc (g/L)')\n",
    "loss = MAPE(v[:, 0:1],x_plot[:, 0:1])\n",
    "plt.title(('MAPE = {:.2f}'.format(loss.item())))\n",
    "plt.grid(b=True,which='major', axis='both')\n",
    "plt.legend()\n",
    "plt.show() \n",
    "\n",
    "\n",
    "y1 = x_plot[:, 1:2] \n",
    "x1 = a\n",
    "plt.plot(x1, y1,'o',label = \"predicted\") \n",
    "\n",
    "y2 = v[:, 1:2] \n",
    "x2 = a\n",
    "plt.plot(x2, y2,'o',label = \"experimental\") \n",
    "plt.xlabel('time (h)')\n",
    "plt.ylabel('Nitrate Conc (mg/L)')\n",
    "loss = MAPE(v[:, 1:2],x_plot[:, 1:2])\n",
    "plt.title(('MAPE = {:.2f}'.format(loss.item())))\n",
    "plt.grid(b=True,which='major', axis='both')\n",
    "plt.legend()\n",
    "plt.show() \n",
    "\n",
    "y1 = x_plot[:, 2:3] \n",
    "x1 = a\n",
    "plt.plot(x1, y1,'o',label = \"predicted\") \n",
    "\n",
    "y2 = v[:, 2:3] \n",
    "x2 = a\n",
    "plt.plot(x2, y2,'o',label = \"experimental\") \n",
    "plt.xlabel('time (h)')\n",
    "plt.ylabel('Nitrate Conc (mg/L)')\n",
    "loss = MAPE(v[:, 2:3],x_plot[:, 2:3])\n",
    "plt.title(('MAPE = {:.2f}'.format(loss.item())))\n",
    "plt.grid(b=True,which='major', axis='both')\n",
    "plt.legend()\n",
    "plt.show() \n"
   ]
  },
  {
   "cell_type": "code",
   "execution_count": 6,
   "metadata": {},
   "outputs": [
    {
     "ename": "NameError",
     "evalue": "name 'x_pred' is not defined",
     "output_type": "error",
     "traceback": [
      "\u001b[1;31m---------------------------------------------------------------------------\u001b[0m",
      "\u001b[1;31mNameError\u001b[0m                                 Traceback (most recent call last)",
      "\u001b[1;32m<ipython-input-6-f3658836a7e5>\u001b[0m in \u001b[0;36m<module>\u001b[1;34m\u001b[0m\n\u001b[0;32m      1\u001b[0m \u001b[1;32mimport\u001b[0m \u001b[0mpandas\u001b[0m \u001b[1;32mas\u001b[0m \u001b[0mpd\u001b[0m\u001b[1;33m\u001b[0m\u001b[1;33m\u001b[0m\u001b[0m\n\u001b[0;32m      2\u001b[0m \u001b[0mb\u001b[0m\u001b[1;33m=\u001b[0m\u001b[0mnp\u001b[0m\u001b[1;33m.\u001b[0m\u001b[0marray\u001b[0m\u001b[1;33m(\u001b[0m\u001b[0mv\u001b[0m\u001b[1;33m)\u001b[0m\u001b[1;33m\u001b[0m\u001b[1;33m\u001b[0m\u001b[0m\n\u001b[1;32m----> 3\u001b[1;33m \u001b[0mc\u001b[0m\u001b[1;33m=\u001b[0m\u001b[0mnp\u001b[0m\u001b[1;33m.\u001b[0m\u001b[0marray\u001b[0m\u001b[1;33m(\u001b[0m\u001b[0mx_pred\u001b[0m\u001b[1;33m)\u001b[0m\u001b[1;33m\u001b[0m\u001b[1;33m\u001b[0m\u001b[0m\n\u001b[0m\u001b[0;32m      4\u001b[0m \u001b[0mbook\u001b[0m \u001b[1;33m=\u001b[0m \u001b[0mxlrd\u001b[0m\u001b[1;33m.\u001b[0m\u001b[0mopen_workbook\u001b[0m\u001b[1;33m(\u001b[0m\u001b[1;34m'tested data.xlsx'\u001b[0m\u001b[1;33m)\u001b[0m\u001b[1;33m\u001b[0m\u001b[1;33m\u001b[0m\u001b[0m\n\u001b[0;32m      5\u001b[0m \u001b[0msheet\u001b[0m \u001b[1;33m=\u001b[0m \u001b[0mbook\u001b[0m\u001b[1;33m.\u001b[0m\u001b[0msheet_by_name\u001b[0m\u001b[1;33m(\u001b[0m\u001b[1;34m'Sheet1'\u001b[0m\u001b[1;33m)\u001b[0m\u001b[1;33m\u001b[0m\u001b[1;33m\u001b[0m\u001b[0m\n",
      "\u001b[1;31mNameError\u001b[0m: name 'x_pred' is not defined"
     ]
    }
   ],
   "source": [
    "import pandas as pd\n",
    "b=np.array(v)\n",
    "c=np.array(x_pred)\n",
    "book = xlrd.open_workbook('tested data.xlsx')\n",
    "sheet = book.sheet_by_name('Sheet1')\n",
    "writer = pd.ExcelWriter('tested data.xlsx', engine='xlsxwriter')\n",
    "df1 = pd.DataFrame(b)\n",
    "df1.to_excel(writer, header=True, index=True)\n",
    "df2 = pd.DataFrame(c)\n",
    "df2.to_excel(writer, startrow=13, header=True, index=True)\n",
    "writer.save()"
   ]
  }
 ],
 "metadata": {
  "kernelspec": {
   "display_name": "Python 3",
   "language": "python",
   "name": "python3"
  },
  "language_info": {
   "codemirror_mode": {
    "name": "ipython",
    "version": 3
   },
   "file_extension": ".py",
   "mimetype": "text/x-python",
   "name": "python",
   "nbconvert_exporter": "python",
   "pygments_lexer": "ipython3",
   "version": "3.7.3"
  }
 },
 "nbformat": 4,
 "nbformat_minor": 2
}
