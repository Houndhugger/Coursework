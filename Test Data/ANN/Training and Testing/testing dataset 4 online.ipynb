{
 "cells": [
  {
   "cell_type": "code",
   "execution_count": 14,
   "metadata": {},
   "outputs": [],
   "source": [
    "import torch.nn as nn\n",
    "class Net(nn.Module):\n",
    "    def __init__(self, D_in, H1, H2, D_out):\n",
    " \n",
    "        super(Net, self).__init__()\n",
    "        self.linear1 = nn.Linear(D_in, H1) \n",
    "        self.linear2 = nn.Linear(H1, H2)\n",
    "        self.linear3 = nn.Linear(H2, D_out)\n",
    "  \n",
    "    def forward(self, x):\n",
    "    \n",
    "        x = torch.sigmoid(self.linear1(x))\n",
    "        x = torch.sigmoid(self.linear2(x))\n",
    "        x = self.linear3(x)\n",
    "        return x\n"
   ]
  },
  {
   "cell_type": "code",
   "execution_count": 15,
   "metadata": {},
   "outputs": [],
   "source": [
    "import torch \n",
    "import xlrd\n",
    "from sklearn.preprocessing import StandardScaler\n",
    "import numpy as np\n",
    "\n",
    "N, D_in, H1, H2, D_out = 100, 5, 15, 9, 3\n",
    "model = Net(D_in, H1, H2, D_out)\n",
    "\n",
    "model.load_state_dict(torch.load(\"C:/Users/Gabriel/Documents/Python/ANN2.pt\"))\n",
    "model.eval()\n",
    "book = xlrd.open_workbook('dataset for standardisation.xlsx')\n",
    "sheet = book.sheet_by_name('Sheet1')\n",
    "data4 = [[sheet.cell_value(r, c)\n",
    "         for c in range(1,6)] for r in range(2,74)]\n",
    "data5 = [[sheet.cell_value(r, c)\n",
    "         for c in range(6,9)] for r in range(2,74)]\n",
    "scaler = StandardScaler()\n",
    "scaler2 = StandardScaler()\n"
   ]
  },
  {
   "cell_type": "code",
   "execution_count": 16,
   "metadata": {},
   "outputs": [
    {
     "name": "stdout",
     "output_type": "stream",
     "text": [
      "tensor([[4.1093e-01, 2.5413e+03, 7.3692e-01],\n",
      "        [6.2801e-01, 2.8373e+03, 1.3410e+00],\n",
      "        [8.7443e-01, 2.4264e+03, 1.7682e+00],\n",
      "        [1.1206e+00, 2.3999e+03, 2.1920e+00],\n",
      "        [1.3577e+00, 2.8777e+03, 2.5906e+00],\n",
      "        [1.5476e+00, 2.7890e+03, 2.8936e+00],\n",
      "        [1.7866e+00, 4.3883e+03, 3.3367e+00],\n",
      "        [2.0022e+00, 7.3880e+03, 3.4097e+00],\n",
      "        [2.1550e+00, 9.1476e+03, 3.6751e+00],\n",
      "        [2.3206e+00, 1.1120e+04, 3.8686e+00],\n",
      "        [2.4595e+00, 1.2603e+04, 4.1844e+00],\n",
      "        [2.5724e+00, 1.3926e+04, 4.4178e+00]], dtype=torch.float64)\n"
     ]
    },
    {
     "name": "stderr",
     "output_type": "stream",
     "text": [
      "C:\\Users\\Gabriel\\Anaconda3\\lib\\site-packages\\ipykernel_launcher.py:38: UserWarning: To copy construct from a tensor, it is recommended to use sourceTensor.clone().detach() or sourceTensor.clone().detach().requires_grad_(True), rather than torch.tensor(sourceTensor).\n"
     ]
    },
    {
     "name": "stdout",
     "output_type": "stream",
     "text": [
      "tensor([[4.1093e-01, 2.5413e+03, 7.3692e-01],\n",
      "        [6.2801e-01, 2.8373e+03, 1.3410e+00],\n",
      "        [8.7443e-01, 2.4264e+03, 1.7682e+00],\n",
      "        [1.1206e+00, 2.3999e+03, 2.1920e+00],\n",
      "        [1.3577e+00, 2.8777e+03, 2.5906e+00],\n",
      "        [1.5476e+00, 2.7890e+03, 2.8936e+00],\n",
      "        [1.7866e+00, 4.3883e+03, 3.3367e+00],\n",
      "        [2.0022e+00, 7.3880e+03, 3.4097e+00],\n",
      "        [2.1550e+00, 9.1476e+03, 3.6751e+00],\n",
      "        [2.3206e+00, 1.1120e+04, 3.8686e+00],\n",
      "        [2.4595e+00, 1.2603e+04, 4.1844e+00],\n",
      "        [2.5724e+00, 1.3926e+04, 4.4178e+00]], dtype=torch.float64)\n",
      "tensor([[4.1093e-01, 2.5413e+03, 7.3692e-01],\n",
      "        [6.2801e-01, 2.8373e+03, 1.3410e+00],\n",
      "        [8.7443e-01, 2.4264e+03, 1.7682e+00],\n",
      "        [1.1206e+00, 2.3999e+03, 2.1920e+00],\n",
      "        [1.3577e+00, 2.8777e+03, 2.5906e+00],\n",
      "        [1.5476e+00, 2.7890e+03, 2.8936e+00],\n",
      "        [1.7866e+00, 4.3883e+03, 3.3367e+00],\n",
      "        [2.0022e+00, 7.3880e+03, 3.4097e+00],\n",
      "        [2.1550e+00, 9.1476e+03, 3.6751e+00],\n",
      "        [2.3206e+00, 1.1120e+04, 3.8686e+00],\n",
      "        [2.4595e+00, 1.2603e+04, 4.1844e+00],\n",
      "        [2.5724e+00, 1.3926e+04, 4.4178e+00]], dtype=torch.float64)\n",
      "tensor([[2.9100e-01, 3.0005e+03, 6.1000e-01],\n",
      "        [5.7200e-01, 2.6112e+03, 1.1100e+00],\n",
      "        [8.4960e-01, 2.4988e+03, 1.6100e+00],\n",
      "        [1.0979e+00, 2.8926e+03, 2.0300e+00],\n",
      "        [1.3347e+00, 2.5730e+03, 2.4500e+00],\n",
      "        [1.5264e+00, 4.1653e+03, 2.7800e+00],\n",
      "        [1.7396e+00, 7.0740e+03, 3.1100e+00],\n",
      "        [1.8920e+00, 8.8295e+03, 3.4600e+00],\n",
      "        [2.0587e+00, 1.1146e+04, 3.6300e+00],\n",
      "        [2.1971e+00, 1.2696e+04, 3.9300e+00],\n",
      "        [2.3153e+00, 1.4114e+04, 4.1500e+00],\n",
      "        [2.4464e+00, 1.5800e+04, 4.2600e+00]])\n"
     ]
    }
   ],
   "source": [
    "\n",
    "book = xlrd.open_workbook('Experimental Data edited.xlsx')\n",
    "sheet = book.sheet_by_name('Sheet2')\n",
    "data = [[sheet.cell_value(r, c)\n",
    "         for c in range(1,6)] for r in range(98,110)]\n",
    "data2 = [[sheet.cell_value(r, c)\n",
    "         for c in range(1,4)] for r in range(98,110)]\n",
    "data3 = [[sheet.cell_value(r, c)\n",
    "         for c in range(1,4)] for r in range(99,111)]\n",
    "scaler = StandardScaler(with_mean=True, with_std=True)\n",
    "\n",
    "\n",
    "scaler.fit(data4)\n",
    "scaler2.fit(data5)\n",
    "n = np.array(data)\n",
    "q= torch.tensor(n[:,:])\n",
    "standardised_data = scaler.transform(data)\n",
    "\n",
    "standardised_data2 = standardised_data[:, 0:3] \n",
    "\n",
    "\n",
    "\n",
    "x = torch.tensor(standardised_data)\n",
    "z = torch.tensor(standardised_data2)\n",
    "v = torch.tensor(data3)\n",
    "\n",
    "with torch.no_grad():\n",
    "        dx_dt_pred = model(x.float())\n",
    "     \n",
    "        predictions= np.array(dx_dt_pred)\n",
    "        descaled_predictions = scaler2.inverse_transform(predictions)\n",
    "        usable_predictions = torch.tensor(descaled_predictions)\n",
    "        q[:, 0:3]  = (usable_predictions*12) + q[:, 0:3]\n",
    "        print(q[:, 0:3])\n",
    "        np_x = np.array(q[:, 0:3])\n",
    "    \n",
    " \n",
    "        results=torch.tensor(np_x)\n",
    "predictions_final=torch.tensor(results)  \n",
    "print(results)\n",
    "x_plot=predictions_final.view(12, 3)\n",
    "print(x_plot) \n",
    "\n",
    "print(v)\n",
    "\n",
    "\n"
   ]
  },
  {
   "cell_type": "code",
   "execution_count": 17,
   "metadata": {},
   "outputs": [
    {
     "data": {
      "image/png": "[encoded data removed]",
      "text/plain": [
       "<Figure size 432x288 with 1 Axes>"
      ]
     },
     "metadata": {
      "needs_background": "light"
     },
     "output_type": "display_data"
    },
    {
     "data": {
      "image/png": "[encoded data removed]",
      "text/plain": [
       "<Figure size 432x288 with 1 Axes>"
      ]
     },
     "metadata": {
      "needs_background": "light"
     },
     "output_type": "display_data"
    },
    {
     "data": {
      "image/png": "[encoded data removed]",
      "text/plain": [
       "<Figure size 432x288 with 1 Axes>"
      ]
     },
     "metadata": {
      "needs_background": "light"
     },
     "output_type": "display_data"
    }
   ],
   "source": [
    "def MAPE(y_true, y_pred):\n",
    "    MAPE_Total=0\n",
    "    for i in range(len(y_pred)):\n",
    "        MAPE = torch.abs((y_true[i:1+i,:]-y_pred[i:1+i,:])/y_true[i:1+i,:])\n",
    "        MAPE_Total += (MAPE/len(y_pred))*100\n",
    "    return MAPE_Total\n",
    "\n",
    "import numpy as np\n",
    "a = np.linspace(12,144,12)\n",
    "v = torch.tensor(data3)\n",
    "import matplotlib.pyplot as plt \n",
    "y1 = x_plot[:, 0:1] \n",
    "x1 = a\n",
    "plt.plot(x1, y1,'o' ,label = \"predicted\") \n",
    "\n",
    "y2 = v[:, 0:1] \n",
    "x2 = a\n",
    "plt.plot(x2, y2, 'o',label = \"experimental\") \n",
    "plt.xlabel('time (h)')\n",
    "plt.ylabel('Biomass Conc (g/L)')\n",
    "loss = MAPE(v[:, 0:1],x_plot[:, 0:1])\n",
    "plt.title(('MAPE = {:.2f}'.format(loss.item())))\n",
    "plt.grid(b=True,which='major', axis='both')\n",
    "plt.legend()\n",
    "plt.show() \n",
    "\n",
    "\n",
    "y1 = x_plot[:, 1:2] \n",
    "x1 = a\n",
    "plt.plot(x1, y1,'o',label = \"predicted\") \n",
    "\n",
    "y2 = v[:, 1:2] \n",
    "x2 = a\n",
    "plt.plot(x2, y2,'o',label = \"experimental\") \n",
    "plt.xlabel('time (h)')\n",
    "plt.ylabel('Nitrate Conc (mg/L)')\n",
    "loss = MAPE(v[:, 1:2],x_plot[:, 1:2])\n",
    "plt.title(('MAPE = {:.2f}'.format(loss.item())))\n",
    "plt.grid(b=True,which='major', axis='both')\n",
    "plt.legend()\n",
    "plt.show() \n",
    "\n",
    "y1 = x_plot[:, 2:3] \n",
    "x1 = a\n",
    "plt.plot(x1, y1,'o',label = \"predicted\") \n",
    "\n",
    "y2 = v[:, 2:3] \n",
    "x2 = a\n",
    "plt.plot(x2, y2,'o',label = \"experimental\") \n",
    "plt.xlabel('time (h)')\n",
    "plt.ylabel('Nitrate Conc (mg/L)')\n",
    "loss = MAPE(v[:, 2:3],x_plot[:, 2:3])\n",
    "plt.title(('MAPE = {:.2f}'.format(loss.item())))\n",
    "plt.grid(b=True,which='major', axis='both')\n",
    "plt.legend()\n",
    "plt.show() \n"
   ]
  },
  {
   "cell_type": "code",
   "execution_count": 19,
   "metadata": {},
   "outputs": [],
   "source": [
    "import pandas as pd\n",
    "b=np.array(v)\n",
    "c=np.array(x_plot)\n",
    "book = xlrd.open_workbook('tested data.xlsx')\n",
    "sheet = book.sheet_by_name('Sheet1')\n",
    "writer = pd.ExcelWriter('tested data.xlsx', engine='xlsxwriter')\n",
    "df1 = pd.DataFrame(b)\n",
    "df1.to_excel(writer, header=True, index=True)\n",
    "df2 = pd.DataFrame(c)\n",
    "df2.to_excel(writer, startrow=13, header=True, index=True)\n",
    "writer.save()"
   ]
  }
 ],
 "metadata": {
  "kernelspec": {
   "display_name": "Python 3",
   "language": "python",
   "name": "python3"
  },
  "language_info": {
   "codemirror_mode": {
    "name": "ipython",
    "version": 3
   },
   "file_extension": ".py",
   "mimetype": "text/x-python",
   "name": "python",
   "nbconvert_exporter": "python",
   "pygments_lexer": "ipython3",
   "version": "3.7.3"
  }
 },
 "nbformat": 4,
 "nbformat_minor": 2
}
