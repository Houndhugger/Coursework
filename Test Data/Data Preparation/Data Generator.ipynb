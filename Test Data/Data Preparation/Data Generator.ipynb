{
 "cells": [
  {
   "cell_type": "code",
   "execution_count": 1,
   "metadata": {},
   "outputs": [],
   "source": [
    "import numpy as np\n",
    "import xlrd\n",
    "import pandas as pd\n",
    "book = xlrd.open_workbook('dataset for coursework.xlsx')\n",
    "sheet = book.sheet_by_name('Sheet1')\n",
    "data = [[sheet.cell_value(r, c) for c in range(1,4)] for r in range(2,80)]\n",
    "data2 = [[sheet.cell_value(r, c) for c in range(4,6)] for r in range(2,80)]\n",
    "test_data = np.array(data)\n",
    "light_data = np.array(data2)\n"
   ]
  },
  {
   "cell_type": "code",
   "execution_count": 2,
   "metadata": {},
   "outputs": [],
   "source": [
    "writer1 = pd.ExcelWriter('generateddata.xlsx', engine='xlsxwriter')\n",
    "for i in range(1, 51):\n",
    "    b = np.random.normal(test_data,test_data*0.05*0.333,(78,3))\n",
    "   \n",
    "    df = pd.DataFrame(b)\n",
    "    df2 = pd.DataFrame(light_data)\n",
    "    startrow = (i-1)*78\n",
    "    df.to_excel(writer1,startrow=startrow, header=False, index=False)\n",
    "    df2.to_excel(writer1,startrow=startrow,startcol=3, header=False, index=False)\n",
    "    c = np.random.normal(test_data,test_data*0.03*0.333,(78,3))\n",
    "    df = pd.DataFrame(c)\n",
    "    startrow = (i-1)*78+50*78\n",
    "    df.to_excel(writer1,startrow=startrow, header=False, index=False)\n",
    "    df2.to_excel(writer1,startrow=startrow,startcol=3, header=False, index=False)\n",
    "writer1.save()\n"
   ]
  },
  {
   "cell_type": "code",
   "execution_count": 4,
   "metadata": {},
   "outputs": [],
   "source": [
    "book = xlrd.open_workbook('generateddata+originaldata.xlsx')\n",
    "sheet = book.sheet_by_name('Sheet1')\n",
    "data3 = [[sheet.cell_value(r, c) for c in range(0,8)] for r in range(0,7878)]\n",
    "complete_data = np.array(data3)\n",
    "prepared_data = np.delete(complete_data, list(range(12, complete_data.shape[0], 13)), axis=0)\n",
    "writer2 = pd.ExcelWriter('prepareddata.xlsx', engine='xlsxwriter')\n",
    "df3 = pd.DataFrame(prepared_data)\n",
    "df3.to_excel(writer2, header=False,index=False)\n",
    "writer2.save()"
   ]
  },
  {
   "cell_type": "code",
   "execution_count": null,
   "metadata": {},
   "outputs": [],
   "source": []
  }
 ],
 "metadata": {
  "kernelspec": {
   "display_name": "Python 3",
   "language": "python",
   "name": "python3"
  },
  "language_info": {
   "codemirror_mode": {
    "name": "ipython",
    "version": 3
   },
   "file_extension": ".py",
   "mimetype": "text/x-python",
   "name": "python",
   "nbconvert_exporter": "python",
   "pygments_lexer": "ipython3",
   "version": "3.7.3"
  }
 },
 "nbformat": 4,
 "nbformat_minor": 2
}
