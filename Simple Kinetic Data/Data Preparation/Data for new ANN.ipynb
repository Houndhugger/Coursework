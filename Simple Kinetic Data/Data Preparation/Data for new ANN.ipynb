{
 "cells": [
  {
   "cell_type": "code",
   "execution_count": 7,
   "metadata": {},
   "outputs": [],
   "source": [
    "import numpy as np\n",
    "import xlrd\n",
    "import pandas as pd\n",
    "book = xlrd.open_workbook('prepareddatakfoldkinetic.xlsx')\n",
    "sheet = book.sheet_by_name('Sheet1')\n",
    "writer1 = pd.ExcelWriter('prepareddatakfoldkineticnewANN.xlsx', engine='xlsxwriter')\n",
    "for dataset in range(1, 601):\n",
    "    data = [[sheet.cell_value(r, c) for c in range(4,7)] for r \n",
    "        in range(((dataset-1)*25),((dataset*25)-1))]\n",
    "    data1 = np.array(data)\n",
    "    data2 =np.array([0,0,0],ndmin=2)\n",
    "    df = pd.DataFrame(data1)\n",
    "    df2 = pd.DataFrame(data2)\n",
    "    startrow = ((dataset-1)*25)+1\n",
    "    df.to_excel(writer1,startrow=startrow,startcol=4, header=False, index=False)\n",
    "    startrow = (dataset-1)*25\n",
    "    df2.to_excel(writer1,startrow=startrow,startcol=4, header=False, index=False)\n",
    "data3 = [[sheet.cell_value(r, c) for c in range(0,4)] for r in range(0,15000)]\n",
    "data4 = np.array(data3)\n",
    "df3 = pd.DataFrame(data4)\n",
    "df3.to_excel(writer1,startrow=0,startcol=0, header=False, index=False)\n",
    "    \n",
    "writer1.save() \n"
   ]
  }
 ],
 "metadata": {
  "kernelspec": {
   "display_name": "Python 3",
   "language": "python",
   "name": "python3"
  },
  "language_info": {
   "codemirror_mode": {
    "name": "ipython",
    "version": 3
   },
   "file_extension": ".py",
   "mimetype": "text/x-python",
   "name": "python",
   "nbconvert_exporter": "python",
   "pygments_lexer": "ipython3",
   "version": "3.7.3"
  }
 },
 "nbformat": 4,
 "nbformat_minor": 2
}
