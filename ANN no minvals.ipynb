{
 "cells": [
  {
   "cell_type": "code",
   "execution_count": 2,
   "metadata": {},
   "outputs": [
    {
     "name": "stdout",
     "output_type": "stream",
     "text": [
      "[1.17685992e+00 2.50797002e+03 2.03207622e+00 3.30000000e+02\n",
      " 3.00000000e-01 1.50880269e-02 4.55572536e+01 2.53751017e-02] [5.29632128e-01 1.01472949e+07 1.74973000e+00 2.70000000e+04\n",
      " 4.00000000e-02 3.34068516e-05 4.87490021e+03 2.03739307e-04]\n",
      "tensor([[ 0.5045,  0.8613,  0.1405, -1.0954,  1.0000],\n",
      "        [ 0.1467,  0.0117,  0.2623,  0.9129,  1.0000],\n",
      "        [-1.5107, -0.5442, -1.5362, -0.1826,  1.0000],\n",
      "        ...,\n",
      "        [ 1.1630,  1.8615,  0.8470, -0.1826,  1.0000],\n",
      "        [-0.6056, -0.6405, -0.6497, -1.0954, -1.0000],\n",
      "        [-0.3502, -0.5747, -0.3860, -1.0954, -1.0000]], dtype=torch.float64)\n",
      "tensor([[-0.4081,  1.9218, -0.2342],\n",
      "        [ 0.3233, -0.9203,  0.8399],\n",
      "        [-0.5712, -0.9917,  0.1352],\n",
      "        ...,\n",
      "        [-0.5653,  0.8689, -0.9051],\n",
      "        [-0.1466, -0.4099,  0.4206],\n",
      "        [-0.7863, -0.3249, -0.3923]], dtype=torch.float64)\n"
     ]
    }
   ],
   "source": [
    "import torch\n",
    "import numpy as np\n",
    "from sklearn.preprocessing import StandardScaler\n",
    "\n",
    "\n",
    "\n",
    "\n",
    "import xlrd\n",
    "import pandas as pd\n",
    "book = xlrd.open_workbook('prepareddata.xlsx')\n",
    "sheet = book.sheet_by_name('Sheet1')\n",
    "data = [[sheet.cell_value(r, c)\n",
    "         for c in range(0,8)] for r in range(0,7272)]\n",
    "\n",
    "scaler = StandardScaler()\n",
    "\n",
    "\n",
    "standardised_data = scaler.fit_transform(data)\n",
    "print(scaler.mean_, scaler.var_)\n",
    "\n",
    "np.random.shuffle(standardised_data)\n",
    "array1 = standardised_data[:, 0:5]\n",
    "array2 = standardised_data[:, 5:8]\n",
    "x = torch.tensor(array1)\n",
    "y = torch.tensor(array2)\n",
    "\n",
    "print(x)\n",
    "print(y)\n"
   ]
  },
  {
   "cell_type": "code",
   "execution_count": 25,
   "metadata": {},
   "outputs": [],
   "source": [
    "\n"
   ]
  },
  {
   "cell_type": "code",
   "execution_count": 3,
   "metadata": {},
   "outputs": [],
   "source": [
    "import torch.nn as nn\n",
    "class Net(nn.Module):\n",
    "    def __init__(self, D_in, H1, H2, D_out):\n",
    " \n",
    "        super(Net, self).__init__()\n",
    "        self.linear1 = nn.Linear(D_in, H1) \n",
    "        self.linear2 = nn.Linear(H1, H2)\n",
    "        self.linear3 = nn.Linear(H2, D_out)\n",
    "  \n",
    "    def forward(self, x):\n",
    "    \n",
    "        x = torch.sigmoid(self.linear1(x))\n",
    "        x = torch.sigmoid(self.linear2(x))\n",
    "        x = self.linear3(x)\n",
    "        return x\n",
    "\n"
   ]
  },
  {
   "cell_type": "code",
   "execution_count": 4,
   "metadata": {},
   "outputs": [],
   "source": [
    "# N is batch size; D_in is input dimension;\n",
    "# H is hidden dimension; D_out is output dimension.\n",
    "N, D_in, H1, H2, D_out = 50, 5, 20, 12, 3\n",
    "model = Net(D_in, H1, H2, D_out)\n",
    "loss_fn = torch.nn.MSELoss(reduction='mean')"
   ]
  },
  {
   "cell_type": "code",
   "execution_count": 5,
   "metadata": {},
   "outputs": [
    {
     "name": "stderr",
     "output_type": "stream",
     "text": [
      "100%|███████████████████████████████████████████████████████████████████████████████| 146/146 [00:00<00:00, 527.70it/s]\n"
     ]
    },
    {
     "name": "stdout",
     "output_type": "stream",
     "text": [
      "0 0.9540542960166931\n"
     ]
    },
    {
     "name": "stderr",
     "output_type": "stream",
     "text": [
      "100%|███████████████████████████████████████████████████████████████████████████████| 146/146 [00:00<00:00, 939.36it/s]\n"
     ]
    },
    {
     "name": "stdout",
     "output_type": "stream",
     "text": [
      "1 0.8732340931892395\n"
     ]
    },
    {
     "name": "stderr",
     "output_type": "stream",
     "text": [
      "100%|███████████████████████████████████████████████████████████████████████████████| 146/146 [00:00<00:00, 931.33it/s]\n"
     ]
    },
    {
     "name": "stdout",
     "output_type": "stream",
     "text": [
      "2 0.7415192127227783\n"
     ]
    },
    {
     "name": "stderr",
     "output_type": "stream",
     "text": [
      "100%|███████████████████████████████████████████████████████████████████████████████| 146/146 [00:00<00:00, 912.44it/s]\n"
     ]
    },
    {
     "name": "stdout",
     "output_type": "stream",
     "text": [
      "3 0.6169151067733765\n"
     ]
    },
    {
     "name": "stderr",
     "output_type": "stream",
     "text": [
      "100%|███████████████████████████████████████████████████████████████████████████████| 146/146 [00:00<00:00, 979.27it/s]\n"
     ]
    },
    {
     "name": "stdout",
     "output_type": "stream",
     "text": [
      "4 0.5280095934867859\n"
     ]
    },
    {
     "name": "stderr",
     "output_type": "stream",
     "text": [
      "100%|███████████████████████████████████████████████████████████████████████████████| 146/146 [00:00<00:00, 955.90it/s]\n"
     ]
    },
    {
     "name": "stdout",
     "output_type": "stream",
     "text": [
      "5 0.4608737528324127\n"
     ]
    },
    {
     "name": "stderr",
     "output_type": "stream",
     "text": [
      "100%|███████████████████████████████████████████████████████████████████████████████| 146/146 [00:00<00:00, 926.52it/s]\n"
     ]
    },
    {
     "name": "stdout",
     "output_type": "stream",
     "text": [
      "6 0.40873804688453674\n"
     ]
    },
    {
     "name": "stderr",
     "output_type": "stream",
     "text": [
      "100%|███████████████████████████████████████████████████████████████████████████████| 146/146 [00:00<00:00, 988.95it/s]\n"
     ]
    },
    {
     "name": "stdout",
     "output_type": "stream",
     "text": [
      "7 0.371812641620636\n"
     ]
    },
    {
     "name": "stderr",
     "output_type": "stream",
     "text": [
      "100%|███████████████████████████████████████████████████████████████████████████████| 146/146 [00:00<00:00, 993.06it/s]\n"
     ]
    },
    {
     "name": "stdout",
     "output_type": "stream",
     "text": [
      "8 0.3496018946170807\n"
     ]
    },
    {
     "name": "stderr",
     "output_type": "stream",
     "text": [
      "100%|███████████████████████████████████████████████████████████████████████████████| 146/146 [00:00<00:00, 953.28it/s]\n"
     ]
    },
    {
     "name": "stdout",
     "output_type": "stream",
     "text": [
      "9 0.3378002345561981\n"
     ]
    },
    {
     "name": "stderr",
     "output_type": "stream",
     "text": [
      "100%|███████████████████████████████████████████████████████████████████████████████| 146/146 [00:00<00:00, 886.06it/s]\n"
     ]
    },
    {
     "name": "stdout",
     "output_type": "stream",
     "text": [
      "10 0.3312988579273224\n"
     ]
    },
    {
     "name": "stderr",
     "output_type": "stream",
     "text": [
      "100%|███████████████████████████████████████████████████████████████████████████████| 146/146 [00:00<00:00, 940.45it/s]\n"
     ]
    },
    {
     "name": "stdout",
     "output_type": "stream",
     "text": [
      "11 0.3267859220504761\n"
     ]
    },
    {
     "name": "stderr",
     "output_type": "stream",
     "text": [
      "100%|███████████████████████████████████████████████████████████████████████████████| 146/146 [00:00<00:00, 926.54it/s]\n"
     ]
    },
    {
     "name": "stdout",
     "output_type": "stream",
     "text": [
      "12 0.32285207509994507\n"
     ]
    },
    {
     "name": "stderr",
     "output_type": "stream",
     "text": [
      "100%|███████████████████████████████████████████████████████████████████████████████| 146/146 [00:00<00:00, 839.61it/s]\n"
     ]
    },
    {
     "name": "stdout",
     "output_type": "stream",
     "text": [
      "13 0.3190932869911194\n"
     ]
    },
    {
     "name": "stderr",
     "output_type": "stream",
     "text": [
      "100%|███████████████████████████████████████████████████████████████████████████████| 146/146 [00:00<00:00, 930.63it/s]\n"
     ]
    },
    {
     "name": "stdout",
     "output_type": "stream",
     "text": [
      "14 0.315446674823761\n"
     ]
    },
    {
     "name": "stderr",
     "output_type": "stream",
     "text": [
      "100%|███████████████████████████████████████████████████████████████████████████████| 146/146 [00:00<00:00, 965.17it/s]\n"
     ]
    },
    {
     "name": "stdout",
     "output_type": "stream",
     "text": [
      "15 0.31192389130592346\n"
     ]
    },
    {
     "name": "stderr",
     "output_type": "stream",
     "text": [
      "100%|██████████████████████████████████████████████████████████████████████████████| 146/146 [00:00<00:00, 1009.59it/s]\n"
     ]
    },
    {
     "name": "stdout",
     "output_type": "stream",
     "text": [
      "16 0.30853861570358276\n"
     ]
    },
    {
     "name": "stderr",
     "output_type": "stream",
     "text": [
      "100%|███████████████████████████████████████████████████████████████████████████████| 146/146 [00:00<00:00, 975.23it/s]\n"
     ]
    },
    {
     "name": "stdout",
     "output_type": "stream",
     "text": [
      "17 0.30529436469078064\n"
     ]
    },
    {
     "name": "stderr",
     "output_type": "stream",
     "text": [
      "100%|███████████████████████████████████████████████████████████████████████████████| 146/146 [00:00<00:00, 913.42it/s]\n"
     ]
    },
    {
     "name": "stdout",
     "output_type": "stream",
     "text": [
      "18 0.30218586325645447\n"
     ]
    },
    {
     "name": "stderr",
     "output_type": "stream",
     "text": [
      "100%|███████████████████████████████████████████████████████████████████████████████| 146/146 [00:00<00:00, 922.69it/s]\n"
     ]
    },
    {
     "name": "stdout",
     "output_type": "stream",
     "text": [
      "19 0.2992022931575775\n"
     ]
    },
    {
     "name": "stderr",
     "output_type": "stream",
     "text": [
      "100%|███████████████████████████████████████████████████████████████████████████████| 146/146 [00:00<00:00, 975.94it/s]\n"
     ]
    },
    {
     "name": "stdout",
     "output_type": "stream",
     "text": [
      "20 0.2963295876979828\n",
      "tensor([[-6.8202e-01,  1.1990e+00, -6.9044e-02],\n",
      "        [ 1.0044e+00, -4.1148e-01,  9.2802e-01],\n",
      "        [-8.1858e-01,  1.1723e+00, -3.4972e-01],\n",
      "        [-2.6167e-03, -7.5117e-01, -6.9914e-01],\n",
      "        [ 3.7161e-01, -8.0064e-01,  6.9206e-01],\n",
      "        [-1.8670e+00, -2.6849e-01, -7.1033e-01],\n",
      "        [ 1.6659e+00, -6.6649e-01,  2.5671e+00],\n",
      "        [-1.3198e+00,  9.6104e-01, -2.0985e-01],\n",
      "        [ 1.1114e-02, -7.8026e-01,  6.3959e-01],\n",
      "        [-1.2387e+00,  7.5148e-01, -6.6887e-01],\n",
      "        [ 6.6547e-01, -7.9385e-01, -3.3627e-01],\n",
      "        [ 1.8095e+00, -7.3227e-01,  2.7062e+00],\n",
      "        [ 1.8600e+00, -9.7303e-01,  1.8816e+00],\n",
      "        [-7.4923e-01, -3.6409e-01, -1.0382e+00],\n",
      "        [ 1.0820e+00, -3.3543e-01, -8.8521e-01],\n",
      "        [-1.4542e-02, -3.8154e-01,  1.1719e-01],\n",
      "        [-3.1665e-01,  1.9115e+00,  4.5618e-01],\n",
      "        [-1.2514e+00, -7.3511e-01, -7.9838e-01],\n",
      "        [ 1.5617e+00, -3.4291e-01,  6.1972e-01],\n",
      "        [-5.6531e-01,  8.6892e-01, -9.0513e-01],\n",
      "        [-1.4657e-01, -4.0986e-01,  4.2059e-01],\n",
      "        [-7.8633e-01, -3.2488e-01, -3.9227e-01]], dtype=torch.float64)\n",
      "tensor([[-0.2782,  1.2511, -0.4411],\n",
      "        [ 0.4079, -0.6194,  0.4888],\n",
      "        [-0.2809,  0.3643, -0.3578],\n",
      "        [-0.4019, -0.7421, -0.2569],\n",
      "        [ 0.0625, -0.8663,  0.2481],\n",
      "        [-0.7793, -0.3828, -0.7716],\n",
      "        [ 1.3563, -0.6529,  1.5423],\n",
      "        [-0.6950,  1.2822, -0.8271],\n",
      "        [ 0.0618, -0.8661,  0.2473],\n",
      "        [-0.5974,  1.5490, -0.7300],\n",
      "        [-0.1457,  0.1278, -0.1775],\n",
      "        [ 1.3561, -0.6510,  1.5417],\n",
      "        [ 1.3255, -0.5218,  1.4779],\n",
      "        [-0.9225, -0.1952, -0.9730],\n",
      "        [-0.5727, -0.3351, -0.6020],\n",
      "        [-0.4963, -0.6716, -0.3788],\n",
      "        [-0.5207,  0.9309, -0.6532],\n",
      "        [-0.3387, -0.7805, -0.1793],\n",
      "        [ 1.0791, -0.0791,  1.0942],\n",
      "        [-0.5870,  1.5471, -0.7206],\n",
      "        [-0.5005, -0.6687, -0.3840],\n",
      "        [-0.5880, -0.5881, -0.5031]], grad_fn=<AddmmBackward>)\n"
     ]
    }
   ],
   "source": [
    "from tqdm import tqdm\n",
    "model.train()\n",
    "learning_rate = 5e-4\n",
    "optimizer = torch.optim.Adam(model.parameters(), lr=learning_rate)\n",
    "\n",
    "epochs = 20\n",
    "\n",
    "for epoch in range (epochs+1):\n",
    "    \n",
    "        for i in tqdm(range(0, len(x), N)):\n",
    "            batch_x = x[i:i+N]\n",
    "            batch_y = y[i:i+N]\n",
    "    # Forward pass\n",
    "            optimizer.zero_grad()\n",
    "            dx_dt_pred = model(batch_x.float())\n",
    "   \n",
    "    # Compute and print loss.\n",
    "            loss = loss_fn(dx_dt_pred, batch_y.float())\n",
    "\n",
    "    # Before the backward pass, use the optimizer object to zero all of the\n",
    "    # gradients for the variables it will update (which are the learnable\n",
    "    # weights of the model). This is because by default, gradients are\n",
    "    # accumulated in buffers( i.e, not overwritten) whenever .backward()\n",
    "    # is called. Checkout docs of torch.autograd.backward for more details.\n",
    "       \n",
    "            loss.backward()\n",
    "            optimizer.step()\n",
    "        print(epoch, loss.item())\n",
    "\n",
    "\n",
    "\n",
    "print(batch_y)    \n",
    "print(dx_dt_pred)\n"
   ]
  },
  {
   "cell_type": "code",
   "execution_count": 6,
   "metadata": {},
   "outputs": [],
   "source": [
    "torch.save(model.state_dict(), (\"C:/Users/Gabriel/Documents/Python/ANN2.pt\"))                \n",
    "                                "
   ]
  },
  {
   "cell_type": "code",
   "execution_count": 30,
   "metadata": {},
   "outputs": [
    {
     "name": "stdout",
     "output_type": "stream",
     "text": [
      "[[0.01783333333333333, 24.988333333333344, 0.050833333333333335], [0.023416666666666665, -32.44333333333335, 0.04166666666666668], [0.02313333333333334, -9.365833333333322, 0.041666666666666664], [0.020691666666666674, 32.817499999999995, 0.034999999999999976], [0.019733333333333325, -26.63583333333334, 0.03500000000000003], [0.015975, 132.69500000000005, 0.02749999999999997], [0.01776666666666667, 242.3891666666666, 0.027500000000000007], [0.012699999999999989, 146.2941666666667, 0.029166666666666674], [0.013891666666666672, 193.01666666666657, 0.01416666666666666], [0.01153333333333332, 129.1691666666667, 0.025000000000000022], [0.009850000000000025, 118.19666666666672, 0.01833333333333335], [0.010924999999999999, 140.48833333333323, 0.00916666666666662]]\n"
     ]
    }
   ],
   "source": [
    "print(data2)"
   ]
  }
 ],
 "metadata": {
  "kernelspec": {
   "display_name": "Python 3",
   "language": "python",
   "name": "python3"
  },
  "language_info": {
   "codemirror_mode": {
    "name": "ipython",
    "version": 3
   },
   "file_extension": ".py",
   "mimetype": "text/x-python",
   "name": "python",
   "nbconvert_exporter": "python",
   "pygments_lexer": "ipython3",
   "version": "3.7.3"
  }
 },
 "nbformat": 4,
 "nbformat_minor": 2
}
