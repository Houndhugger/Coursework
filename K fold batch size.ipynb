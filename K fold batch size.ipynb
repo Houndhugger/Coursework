{
 "cells": [
  {
   "cell_type": "code",
   "execution_count": 1,
   "metadata": {},
   "outputs": [],
   "source": [
    "seed = 1\n",
    "import numpy as np\n",
    "\n",
    "def seed_torch(seed=1029):\n",
    "    np.random.seed(seed)\n",
    "    torch.manual_seed(seed)\n",
    "\n"
   ]
  },
  {
   "cell_type": "code",
   "execution_count": 2,
   "metadata": {},
   "outputs": [],
   "source": [
    "import torch\n",
    "from sklearn.preprocessing import StandardScaler\n",
    "from sklearn.model_selection import KFold\n",
    "import torch.nn as nn\n",
    "class Net(nn.Module):\n",
    "    def __init__(self, D_in, H1, H2, D_out):\n",
    " \n",
    "        super(Net, self).__init__()\n",
    "        self.linear1 = nn.Linear(D_in, H1) \n",
    "        self.linear2 = nn.Linear(H1, H2)\n",
    "        self.linear3 = nn.Linear(H2, D_out)\n",
    "  \n",
    "    def forward(self, x):\n",
    "    \n",
    "        x = torch.sigmoid(self.linear1(x))\n",
    "        x = torch.sigmoid(self.linear2(x))\n",
    "        x = self.linear3(x)\n",
    "        return x\n",
    "\n"
   ]
  },
  {
   "cell_type": "code",
   "execution_count": 5,
   "metadata": {},
   "outputs": [],
   "source": [
    "import copy\n",
    "import numpy as np\n",
    "seed_torch(seed)\n",
    "# N is batch size; D_in is input dimension;\n",
    "# H is hidden dimension; D_out is output dimension.\n",
    "N, D_in, H1, H2, D_out = 50, 5, 10, 3, 3\n",
    "model = Net(D_in, H1, H2, D_out)\n",
    "loss_fn = torch.nn.MSELoss()\n",
    "init_state = copy.deepcopy(model.state_dict())\n",
    "\n"
   ]
  },
  {
   "cell_type": "code",
   "execution_count": 6,
   "metadata": {},
   "outputs": [],
   "source": [
    "\n",
    "from sklearn.preprocessing import StandardScaler\n",
    "from sklearn.model_selection import KFold\n",
    "from tqdm import tqdm\n",
    "\n",
    "import xlrd\n",
    "import pandas as pd\n",
    "book = xlrd.open_workbook('prepareddatakfold.xlsx')\n",
    "sheet = book.sheet_by_name('Sheet1')\n",
    "data = [[sheet.cell_value(r, c)\n",
    "         for c in range(0,8)] for r in range(0,7200)]\n",
    "\n",
    "scaler = StandardScaler()\n",
    "standardised_data = scaler.fit_transform(data)\n",
    "\n",
    "\n",
    "x_train = standardised_data[:, 0:5]\n",
    "y_train = standardised_data[:, 5:8]\n",
    "\n",
    "n_splits = 6\n",
    "splits = list(KFold(n_splits=n_splits, shuffle=False, random_state=seed)\n",
    "              .split(x_train, y_train))\n",
    "\n"
   ]
  },
  {
   "cell_type": "code",
   "execution_count": 17,
   "metadata": {
    "scrolled": true
   },
   "outputs": [
    {
     "name": "stdout",
     "output_type": "stream",
     "text": [
      "1\n",
      "total loss=1.0128\n",
      "10\n",
      "total loss=1.0832\n",
      "20\n",
      "total loss=1.3397\n",
      "30\n",
      "total loss=1.0480\n",
      "40\n",
      "total loss=1.0016\n",
      "50\n",
      "total loss=1.1016\n",
      "60\n",
      "total loss=1.0384\n",
      "70\n",
      "total loss=1.0723\n",
      "80\n",
      "total loss=1.0366\n",
      "90\n",
      "total loss=1.1458\n",
      "100\n",
      "total loss=1.0080\n",
      "200\n",
      "total loss=1.0930\n",
      "300\n",
      "total loss=1.0447\n",
      "400\n",
      "total loss=1.0345\n",
      "500\n",
      "total loss=1.0768\n",
      "600\n",
      "total loss=1.0408\n",
      "700\n",
      "total loss=1.1261\n",
      "1000\n",
      "total loss=1.0190\n"
     ]
    }
   ],
   "source": [
    "i = 5\n",
    "test_batchsizes = [1,10,20,30,40,50,60,70,80,90,100,200,300,400,500,600,700,1000]\n",
    "train_epochs = 20\n",
    "learning_rate = 0.0005 \n",
    "optimizer = torch.optim.Adam(model.parameters(), lr=learning_rate)\n",
    "init_state_opt = copy.deepcopy(optimizer.state_dict())\n",
    "for batchsize in test_batchsizes:\n",
    "            N, D_in, H1, H2, D_out = batchsize, 5, 20, 12, 3\n",
    "            model = Net(D_in, H1, H2, D_out)\n",
    "            total_loss = 0\n",
    "            init_state = copy.deepcopy(model.state_dict())\n",
    "            for i, (train_idx, valid_idx) in enumerate(splits):\n",
    "                model.load_state_dict(init_state)\n",
    "                optimizer.load_state_dict(init_state_opt)\n",
    "                x_train_fold = torch.tensor(x_train[train_idx], dtype=torch.float32)\n",
    "                y_train_fold = torch.tensor(y_train[train_idx], dtype=torch.float32)\n",
    "                x_val_fold = torch.tensor(x_train[valid_idx], dtype=torch.float32)\n",
    "                y_val_fold = torch.tensor(y_train[valid_idx], dtype=torch.float32)\n",
    "                train = torch.utils.data.TensorDataset(x_train_fold, y_train_fold)\n",
    "                valid = torch.utils.data.TensorDataset(x_val_fold, y_val_fold)\n",
    "                train_loader = torch.utils.data.DataLoader(train, batch_size=batchsize,\n",
    "                                                           shuffle=True)\n",
    "                valid_loader = torch.utils.data.DataLoader(valid, batch_size=batchsize,\n",
    "                                                           shuffle=False)\n",
    "                for epoch in range(train_epochs):\n",
    "                    model.train()\n",
    "                    avg_loss = 0.\n",
    "                    for x_batch, y_batch in train_loader:\n",
    "                        y_pred = model(x_batch)\n",
    "                        loss = loss_fn(y_pred, y_batch)\n",
    "                        optimizer.zero_grad()\n",
    "                        loss.backward()\n",
    "                        optimizer.step()\n",
    "                model.eval()\n",
    "                avg_val_loss = 0.\n",
    "                for x_batch, y_batch in valid_loader:\n",
    "                    y_pred = model(x_batch).detach()\n",
    "                    avg_val_loss += loss_fn(y_pred, y_batch).item() / len(valid_loader)\n",
    "                    final_loss = avg_val_loss\n",
    "                total_loss += final_loss/(n_splits)\n",
    "            print(batchsize)\n",
    "            print('total loss={:.4f}'.format(total_loss))\n"
   ]
  },
  {
   "cell_type": "code",
   "execution_count": 7,
   "metadata": {},
   "outputs": [],
   "source": [
    "torch.save(model.state_dict(), (\"C:/Users/Gabriel/Documents/Python/ANN3.pt\"))                \n",
    "                                "
   ]
  }
 ],
 "metadata": {
  "kernelspec": {
   "display_name": "Python 3",
   "language": "python",
   "name": "python3"
  },
  "language_info": {
   "codemirror_mode": {
    "name": "ipython",
    "version": 3
   },
   "file_extension": ".py",
   "mimetype": "text/x-python",
   "name": "python",
   "nbconvert_exporter": "python",
   "pygments_lexer": "ipython3",
   "version": "3.7.3"
  }
 },
 "nbformat": 4,
 "nbformat_minor": 2
}
